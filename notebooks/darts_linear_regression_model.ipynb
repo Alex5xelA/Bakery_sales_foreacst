{
 "cells": [
  {
   "cell_type": "code",
   "execution_count": 2,
   "metadata": {},
   "outputs": [],
   "source": [
    "!pip install -q darts\n"
   ]
  },
  {
   "cell_type": "code",
   "execution_count": 19,
   "metadata": {},
   "outputs": [],
   "source": [
    "import pandas as pd\n",
    "import numpy as np\n",
    "\n",
    "from darts import TimeSeries\n",
    "from darts.models import LinearRegressionModel\n",
    "from darts.metrics import mse\n",
    "from darts.dataprocessing.transformers import Scaler\n",
    "from darts.utils.timeseries_generation import datetime_attribute_timeseries\n"
   ]
  },
  {
   "cell_type": "code",
   "execution_count": 20,
   "metadata": {},
   "outputs": [],
   "source": [
    "df = pd.DataFrame(pd.read_csv('../raw_data/final_dataset.csv'))\n",
    "df['index'] = pd.to_datetime(df['index'])\n",
    "df = df.set_index('index')\n"
   ]
  },
  {
   "cell_type": "code",
   "execution_count": 18,
   "metadata": {},
   "outputs": [
    {
     "data": {
      "text/plain": [
       "<bound method NDFrame.head of                      traditional_baguette  croissant  coupe  pain_au_chocolat  \\\n",
       "index                                                                           \n",
       "2021-01-01 00:00:00                   0.0        0.0    0.0               0.0   \n",
       "2021-01-01 00:20:00                   0.0        0.0    0.0               0.0   \n",
       "2021-01-01 00:40:00                   0.0        0.0    0.0               0.0   \n",
       "2021-01-01 01:00:00                   0.0        0.0    0.0               0.0   \n",
       "2021-01-01 01:20:00                   0.0        0.0    0.0               0.0   \n",
       "...                                   ...        ...    ...               ...   \n",
       "2022-09-30 21:40:00                   0.0        0.0    0.0               0.0   \n",
       "2022-09-30 22:00:00                   0.0        0.0    0.0               0.0   \n",
       "2022-09-30 22:20:00                   0.0        0.0    0.0               0.0   \n",
       "2022-09-30 22:40:00                   0.0        0.0    0.0               0.0   \n",
       "2022-09-30 23:00:00                   0.0        0.0    0.0               0.0   \n",
       "\n",
       "                     baguette  banette  cereal_baguette  temperature_2m (°C)  \\\n",
       "index                                                                          \n",
       "2021-01-01 00:00:00       0.0      0.0              0.0                 -1.4   \n",
       "2021-01-01 00:20:00       0.0      0.0              0.0                 -1.4   \n",
       "2021-01-01 00:40:00       0.0      0.0              0.0                 -1.4   \n",
       "2021-01-01 01:00:00       0.0      0.0              0.0                 -0.1   \n",
       "2021-01-01 01:20:00       0.0      0.0              0.0                 -0.1   \n",
       "...                       ...      ...              ...                  ...   \n",
       "2022-09-30 21:40:00       0.0      0.0              0.0                 14.5   \n",
       "2022-09-30 22:00:00       0.0      0.0              0.0                 13.5   \n",
       "2022-09-30 22:20:00       0.0      0.0              0.0                 13.5   \n",
       "2022-09-30 22:40:00       0.0      0.0              0.0                 13.5   \n",
       "2022-09-30 23:00:00       0.0      0.0              0.0                 12.9   \n",
       "\n",
       "                     relative_humidity_2m (%)  apparent_temperature (°C)  \\\n",
       "index                                                                      \n",
       "2021-01-01 00:00:00                      97.0                       -4.7   \n",
       "2021-01-01 00:20:00                      97.0                       -4.7   \n",
       "2021-01-01 00:40:00                      97.0                       -4.7   \n",
       "2021-01-01 01:00:00                      97.0                       -3.2   \n",
       "2021-01-01 01:20:00                      97.0                       -3.2   \n",
       "...                                       ...                        ...   \n",
       "2022-09-30 21:40:00                      57.0                       10.7   \n",
       "2022-09-30 22:00:00                      68.0                        9.6   \n",
       "2022-09-30 22:20:00                      68.0                        9.6   \n",
       "2022-09-30 22:40:00                      68.0                        9.6   \n",
       "2022-09-30 23:00:00                      77.0                        9.1   \n",
       "\n",
       "                     precipitation (mm)  rain (mm)  wind_speed_10m (km/h)  \\\n",
       "index                                                                       \n",
       "2021-01-01 00:00:00                 0.0        0.0                    6.1   \n",
       "2021-01-01 00:20:00                 0.0        0.0                    6.1   \n",
       "2021-01-01 00:40:00                 0.0        0.0                    6.1   \n",
       "2021-01-01 01:00:00                 0.0        0.0                    6.1   \n",
       "2021-01-01 01:20:00                 0.0        0.0                    6.1   \n",
       "...                                 ...        ...                    ...   \n",
       "2022-09-30 21:40:00                 0.0        0.0                   19.3   \n",
       "2022-09-30 22:00:00                 0.5        0.5                   22.7   \n",
       "2022-09-30 22:20:00                 0.5        0.5                   22.7   \n",
       "2022-09-30 22:40:00                 0.5        0.5                   22.7   \n",
       "2022-09-30 23:00:00                 0.5        0.5                   24.8   \n",
       "\n",
       "                     wind_speed_100m (km/h)  day_of_week_sin  day_of_week_cos  \\\n",
       "index                                                                           \n",
       "2021-01-01 00:00:00                    11.6        -0.433884        -0.900969   \n",
       "2021-01-01 00:20:00                    11.6        -0.433884        -0.900969   \n",
       "2021-01-01 00:40:00                    11.6        -0.433884        -0.900969   \n",
       "2021-01-01 01:00:00                    12.9        -0.433884        -0.900969   \n",
       "2021-01-01 01:20:00                    12.9        -0.433884        -0.900969   \n",
       "...                                     ...              ...              ...   \n",
       "2022-09-30 21:40:00                    32.4        -0.433884        -0.900969   \n",
       "2022-09-30 22:00:00                    37.3        -0.433884        -0.900969   \n",
       "2022-09-30 22:20:00                    37.3        -0.433884        -0.900969   \n",
       "2022-09-30 22:40:00                    37.3        -0.433884        -0.900969   \n",
       "2022-09-30 23:00:00                    40.1        -0.433884        -0.900969   \n",
       "\n",
       "                     month_sin     month_cos  isHoliday  \n",
       "index                                                    \n",
       "2021-01-01 00:00:00        0.5  8.660254e-01        1.0  \n",
       "2021-01-01 00:20:00        0.5  8.660254e-01        1.0  \n",
       "2021-01-01 00:40:00        0.5  8.660254e-01        1.0  \n",
       "2021-01-01 01:00:00        0.5  8.660254e-01        1.0  \n",
       "2021-01-01 01:20:00        0.5  8.660254e-01        1.0  \n",
       "...                        ...           ...        ...  \n",
       "2022-09-30 21:40:00       -1.0 -1.836970e-16        0.0  \n",
       "2022-09-30 22:00:00       -1.0 -1.836970e-16        0.0  \n",
       "2022-09-30 22:20:00       -1.0 -1.836970e-16        0.0  \n",
       "2022-09-30 22:40:00       -1.0 -1.836970e-16        0.0  \n",
       "2022-09-30 23:00:00       -1.0 -1.836970e-16        0.0  \n",
       "\n",
       "[45934 rows x 19 columns]>"
      ]
     },
     "execution_count": 18,
     "metadata": {},
     "output_type": "execute_result"
    }
   ],
   "source": [
    "df.head\n"
   ]
  },
  {
   "cell_type": "code",
   "execution_count": 21,
   "metadata": {},
   "outputs": [],
   "source": [
    "target = df[['traditional_baguette', 'croissant', 'coupe', 'pain_au_chocolat', 'baguette', 'banette', 'cereal_baguette']]\n",
    "target_tradi = df[['traditional_baguette']]\n",
    "past_cov = df[['temperature_2m (°C)', 'relative_humidity_2m (%)', 'apparent_temperature (°C)', 'precipitation (mm)', 'rain (mm)', 'wind_speed_10m (km/h)', 'wind_speed_100m (km/h)', 'day_of_week_sin', 'day_of_week_cos', 'month_sin', 'month_cos', 'isHoliday']]\n",
    "#future_covariate =\n"
   ]
  },
  {
   "cell_type": "code",
   "execution_count": 22,
   "metadata": {},
   "outputs": [],
   "source": [
    "df_series = TimeSeries.from_dataframe(df)\n",
    "target_series = TimeSeries.from_dataframe(target)\n",
    "target_tradi_series = TimeSeries.from_dataframe(target_tradi)\n",
    "past_cov_series = TimeSeries.from_dataframe(past_cov)\n"
   ]
  },
  {
   "cell_type": "code",
   "execution_count": 23,
   "metadata": {},
   "outputs": [],
   "source": [
    "lags = 7 * 72\n",
    "lags_past_covariates = 7 * 72\n",
    "output_chunk_lenght = 7 * 72\n"
   ]
  },
  {
   "cell_type": "code",
   "execution_count": 24,
   "metadata": {},
   "outputs": [],
   "source": [
    "# We first set aside the first 80% as training series:\n",
    "target_series_train, _ = target_series.split_before(0.8)\n",
    "\n",
    "def eval_model(model, past_covariates = None,\n",
    "               future_covariates = None):\n",
    "\n",
    "\n",
    "\n",
    "    backtest = model.historical_forecasts(series = target_series,\n",
    "                                          past_covariates = past_covariates,\n",
    "                                          #future_covariates = future_covariates,\n",
    "                                          start = 0.8,\n",
    "                                          retrain = False,\n",
    "                                          verbose = True,\n",
    "                                          forecast_horizon = output_chunk_lenght)\n",
    "\n",
    "    df_series[-len(backtest)-100:].plot()\n",
    "    backtest.plot(label = 'backtest (n = 10)')\n",
    "    print('Backtest MSE = {}'.format(mse(target_series, backtest)))\n"
   ]
  },
  {
   "cell_type": "code",
   "execution_count": 25,
   "metadata": {},
   "outputs": [
    {
     "ename": "",
     "evalue": "",
     "output_type": "error",
     "traceback": [
      "\u001b[1;31mThe Kernel crashed while executing code in the the current cell or a previous cell. Please review the code in the cell(s) to identify a possible cause of the failure. Click <a href='https://aka.ms/vscodeJupyterKernelCrash'>here</a> for more info. View Jupyter <a href='command:jupyter.viewOutput'>log</a> for further details."
     ]
    }
   ],
   "source": [
    "lr = LinearRegressionModel(lags = lags,\n",
    "                             lags_past_covariates = lags_past_covariates,\n",
    "                             #lags_future_covariates=[-4, -3, -2, -1, 0]\n",
    ")\n",
    "\n",
    "lr.fit(target_series,\n",
    "               past_covariates = past_cov_series,\n",
    "               #future_covariates=rainfalls\n",
    ")\n",
    "\n",
    "eval_model(lr)\n"
   ]
  }
 ],
 "metadata": {
  "kernelspec": {
   "display_name": "bakery",
   "language": "python",
   "name": "python3"
  },
  "language_info": {
   "codemirror_mode": {
    "name": "ipython",
    "version": 3
   },
   "file_extension": ".py",
   "mimetype": "text/x-python",
   "name": "python",
   "nbconvert_exporter": "python",
   "pygments_lexer": "ipython3",
   "version": "3.10.6"
  }
 },
 "nbformat": 4,
 "nbformat_minor": 2
}
