{
 "cells": [
  {
   "cell_type": "code",
   "execution_count": 1,
   "metadata": {},
   "outputs": [],
   "source": [
    "!pip install -q darts\n"
   ]
  },
  {
   "cell_type": "code",
   "execution_count": null,
   "metadata": {},
   "outputs": [],
   "source": [
    "import pandas as pd\n",
    "import numpy as np\n",
    "\n",
    "from darts import TimeSeries\n",
    "from darts.models import LinearRegressionModel\n",
    "from darts.metrics import mse\n",
    "from darts.dataprocessing.transformers import Scaler\n",
    "from darts.utils.timeseries_generation import datetime_attribute_timeseries\n"
   ]
  },
  {
   "cell_type": "code",
   "execution_count": null,
   "metadata": {},
   "outputs": [],
   "source": [
    "df = pd.DataFrame(pd.read_csv('../raw_data/final_dataset.csv'))\n",
    "df.head()\n"
   ]
  },
  {
   "cell_type": "code",
   "execution_count": null,
   "metadata": {},
   "outputs": [],
   "source": [
    "past_covariates =\n",
    "future_covariate =\n"
   ]
  },
  {
   "cell_type": "code",
   "execution_count": null,
   "metadata": {},
   "outputs": [],
   "source": [
    "df_series = TimeSeries.from_dataframe(df)\n"
   ]
  },
  {
   "cell_type": "code",
   "execution_count": null,
   "metadata": {},
   "outputs": [],
   "source": [
    "# We first set aside the first 80% as training series:\n",
    "df_series_train, _ = df_series.split_before(0.8)\n",
    "\n",
    "def eval_model(model, past_covariates = None, future_covariates = None):\n",
    "    # Past and future covariates are optional because they won't always be used in our tests\n",
    "\n",
    "    # We backtest the model on the last 20% of the flow series, with a horizon of 10 steps:\n",
    "    backtest = model.historical_forecasts(series = df_series,\n",
    "                                          past_covariates = past_covariates,\n",
    "                                          future_covariates = future_covariates,\n",
    "                                          start = 0.8,\n",
    "                                          retrain = False,\n",
    "                                          verbose = True,\n",
    "                                          forecast_horizon = 10)\n",
    "\n",
    "    df_series[-len(backtest)-100:].plot()\n",
    "    backtest.plot(label = 'backtest (n = 10)')\n",
    "    print('Backtest RMSE = {}'.format(mse(df_series, backtest)))\n"
   ]
  },
  {
   "cell_type": "code",
   "execution_count": null,
   "metadata": {},
   "outputs": [],
   "source": [
    "lr = LinearRegressionModel(lags = None,\n",
    "                             lags_past_covariates=[-5, -4, -3, -2, -1],\n",
    "                             lags_future_covariates=[-4, -3, -2, -1, 0])\n",
    "\n",
    "lr.fit(df_series_train,\n",
    "               past_covariates=melting,\n",
    "               future_covariates=rainfalls)\n",
    "\n",
    "eval_model(lr)\n"
   ]
  }
 ],
 "metadata": {
  "kernelspec": {
   "display_name": "bakery",
   "language": "python",
   "name": "python3"
  },
  "language_info": {
   "codemirror_mode": {
    "name": "ipython",
    "version": 3
   },
   "file_extension": ".py",
   "mimetype": "text/x-python",
   "name": "python",
   "nbconvert_exporter": "python",
   "pygments_lexer": "ipython3",
   "version": "3.10.6"
  }
 },
 "nbformat": 4,
 "nbformat_minor": 2
}
