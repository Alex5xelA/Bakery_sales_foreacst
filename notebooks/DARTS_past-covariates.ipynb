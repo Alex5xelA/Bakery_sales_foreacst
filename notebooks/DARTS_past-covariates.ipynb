{
 "cells": [
  {
   "cell_type": "markdown",
   "id": "48b95d46-a7fb-4ee3-b7a8-12548b9c403e",
   "metadata": {},
   "source": [
    "# __*Use Darts to predict using past covariates data*__"
   ]
  },
  {
   "cell_type": "markdown",
   "id": "38e00f90-96bf-4dfe-9fe9-6738b1929d02",
   "metadata": {},
   "source": [
    "## __*Install packages*__"
   ]
  },
  {
   "cell_type": "code",
   "execution_count": 1,
   "id": "b56de05e-84d7-4e2e-a182-6302d76a3ee7",
   "metadata": {},
   "outputs": [],
   "source": [
    "!pip install -q torch\n",
    "!pip install -q darts\n",
    "!pip install -q torchmetrics\n"
   ]
  },
  {
   "cell_type": "markdown",
   "id": "7931bc38-4e52-4d7e-8759-e0bc957fee21",
   "metadata": {},
   "source": [
    "### __*Imports*__"
   ]
  },
  {
   "cell_type": "code",
   "execution_count": 2,
   "id": "1e9b1455-cb7b-43c1-9753-f8bbbeb5bbc5",
   "metadata": {},
   "outputs": [
    {
     "name": "stderr",
     "output_type": "stream",
     "text": [
      "/home/javier/.pyenv/versions/3.10.6/envs/bakery/lib/python3.10/site-packages/statsforecast/core.py:25: TqdmWarning: IProgress not found. Please update jupyter and ipywidgets. See https://ipywidgets.readthedocs.io/en/stable/user_install.html\n",
      "  from tqdm.autonotebook import tqdm\n"
     ]
    }
   ],
   "source": [
    "from torchmetrics.regression import SymmetricMeanAbsolutePercentageError\n",
    "import torch\n",
    "import numpy as np\n",
    "from darts import TimeSeries\n",
    "from darts.utils.timeseries_generation import (\n",
    "    gaussian_timeseries,\n",
    "    linear_timeseries,\n",
    "    sine_timeseries,\n",
    ")\n",
    "from darts.models import (\n",
    "    RNNModel,\n",
    "    TCNModel,\n",
    "    TransformerModel,\n",
    "    NBEATSModel,\n",
    "    BlockRNNModel,\n",
    "    VARIMA,\n",
    ")\n",
    "from darts.metrics import mape, smape, mae\n",
    "from darts.dataprocessing.transformers import Scaler\n",
    "from darts.utils.timeseries_generation import datetime_attribute_timeseries\n",
    "from darts.datasets import AirPassengersDataset, MonthlyMilkDataset, ElectricityDataset\n",
    "\n",
    "import logging\n",
    "\n",
    "logging.disable(logging.CRITICAL)\n",
    "\n",
    "import warnings\n",
    "\n",
    "warnings.filterwarnings(\"ignore\")\n",
    "\n",
    "import matplotlib.pyplot as plt\n",
    "\n",
    "%matplotlib inline\n",
    "\n",
    "# for reproducibility\n",
    "torch.manual_seed(1)\n",
    "np.random.seed(1)\n"
   ]
  },
  {
   "cell_type": "code",
   "execution_count": 4,
   "metadata": {},
   "outputs": [
    {
     "name": "stdout",
     "output_type": "stream",
     "text": [
      "Collecting yfinance\n",
      "  Downloading yfinance-0.2.32-py2.py3-none-any.whl.metadata (11 kB)\n",
      "Requirement already satisfied: pandas>=1.3.0 in /home/javier/.pyenv/versions/3.10.6/envs/bakery/lib/python3.10/site-packages (from yfinance) (2.1.3)\n",
      "Requirement already satisfied: numpy>=1.16.5 in /home/javier/.pyenv/versions/3.10.6/envs/bakery/lib/python3.10/site-packages (from yfinance) (1.26.2)\n",
      "Requirement already satisfied: requests>=2.31 in /home/javier/.pyenv/versions/3.10.6/envs/bakery/lib/python3.10/site-packages (from yfinance) (2.31.0)\n",
      "Collecting multitasking>=0.0.7 (from yfinance)\n",
      "  Downloading multitasking-0.0.11-py3-none-any.whl (8.5 kB)\n",
      "Collecting lxml>=4.9.1 (from yfinance)\n",
      "  Downloading lxml-4.9.3-cp310-cp310-manylinux_2_28_x86_64.whl.metadata (3.8 kB)\n",
      "Requirement already satisfied: appdirs>=1.4.4 in /home/javier/.pyenv/versions/3.10.6/envs/bakery/lib/python3.10/site-packages (from yfinance) (1.4.4)\n",
      "Requirement already satisfied: pytz>=2022.5 in /home/javier/.pyenv/versions/3.10.6/envs/bakery/lib/python3.10/site-packages (from yfinance) (2023.3.post1)\n",
      "Collecting frozendict>=2.3.4 (from yfinance)\n",
      "  Downloading frozendict-2.3.10-cp310-cp310-manylinux_2_17_x86_64.manylinux2014_x86_64.whl.metadata (20 kB)\n",
      "Collecting peewee>=3.16.2 (from yfinance)\n",
      "  Downloading peewee-3.17.0.tar.gz (2.9 MB)\n",
      "\u001b[2K     \u001b[90m━━━━━━━━━━━━━━━━━━━━━━━━━━━━━━━━━━━━━━━━\u001b[0m \u001b[32m2.9/2.9 MB\u001b[0m \u001b[31m10.1 MB/s\u001b[0m eta \u001b[36m0:00:00\u001b[0m00:01\u001b[0m00:01\u001b[0m\n",
      "\u001b[?25h  Installing build dependencies ... \u001b[?25ldone\n",
      "\u001b[?25h  Getting requirements to build wheel ... \u001b[?25ldone\n",
      "\u001b[?25h  Preparing metadata (pyproject.toml) ... \u001b[?25ldone\n",
      "\u001b[?25hRequirement already satisfied: beautifulsoup4>=4.11.1 in /home/javier/.pyenv/versions/3.10.6/envs/bakery/lib/python3.10/site-packages (from yfinance) (4.12.2)\n",
      "Collecting html5lib>=1.1 (from yfinance)\n",
      "  Downloading html5lib-1.1-py2.py3-none-any.whl (112 kB)\n",
      "\u001b[2K     \u001b[90m━━━━━━━━━━━━━━━━━━━━━━━━━━━━━━━━━━━━━━━\u001b[0m \u001b[32m112.2/112.2 kB\u001b[0m \u001b[31m5.5 MB/s\u001b[0m eta \u001b[36m0:00:00\u001b[0m\n",
      "\u001b[?25hRequirement already satisfied: soupsieve>1.2 in /home/javier/.pyenv/versions/3.10.6/envs/bakery/lib/python3.10/site-packages (from beautifulsoup4>=4.11.1->yfinance) (2.5)\n",
      "Requirement already satisfied: six>=1.9 in /home/javier/.pyenv/versions/3.10.6/envs/bakery/lib/python3.10/site-packages (from html5lib>=1.1->yfinance) (1.16.0)\n",
      "Requirement already satisfied: webencodings in /home/javier/.pyenv/versions/3.10.6/envs/bakery/lib/python3.10/site-packages (from html5lib>=1.1->yfinance) (0.5.1)\n",
      "Requirement already satisfied: python-dateutil>=2.8.2 in /home/javier/.pyenv/versions/3.10.6/envs/bakery/lib/python3.10/site-packages (from pandas>=1.3.0->yfinance) (2.8.2)\n",
      "Requirement already satisfied: tzdata>=2022.1 in /home/javier/.pyenv/versions/3.10.6/envs/bakery/lib/python3.10/site-packages (from pandas>=1.3.0->yfinance) (2023.3)\n",
      "Requirement already satisfied: charset-normalizer<4,>=2 in /home/javier/.pyenv/versions/3.10.6/envs/bakery/lib/python3.10/site-packages (from requests>=2.31->yfinance) (3.3.2)\n",
      "Requirement already satisfied: idna<4,>=2.5 in /home/javier/.pyenv/versions/3.10.6/envs/bakery/lib/python3.10/site-packages (from requests>=2.31->yfinance) (3.6)\n",
      "Requirement already satisfied: urllib3<3,>=1.21.1 in /home/javier/.pyenv/versions/3.10.6/envs/bakery/lib/python3.10/site-packages (from requests>=2.31->yfinance) (2.1.0)\n",
      "Requirement already satisfied: certifi>=2017.4.17 in /home/javier/.pyenv/versions/3.10.6/envs/bakery/lib/python3.10/site-packages (from requests>=2.31->yfinance) (2023.11.17)\n",
      "Downloading yfinance-0.2.32-py2.py3-none-any.whl (68 kB)\n",
      "\u001b[2K   \u001b[90m━━━━━━━━━━━━━━━━━━━━━━━━━━━━━━━━━━━━━━━━\u001b[0m \u001b[32m69.0/69.0 kB\u001b[0m \u001b[31m4.7 MB/s\u001b[0m eta \u001b[36m0:00:00\u001b[0m\n",
      "\u001b[?25hDownloading frozendict-2.3.10-cp310-cp310-manylinux_2_17_x86_64.manylinux2014_x86_64.whl (115 kB)\n",
      "\u001b[2K   \u001b[90m━━━━━━━━━━━━━━━━━━━━━━━━━━━━━━━━━━━━━━━━\u001b[0m \u001b[32m115.9/115.9 kB\u001b[0m \u001b[31m6.9 MB/s\u001b[0m eta \u001b[36m0:00:00\u001b[0m\n",
      "\u001b[?25hDownloading lxml-4.9.3-cp310-cp310-manylinux_2_28_x86_64.whl (7.9 MB)\n",
      "\u001b[2K   \u001b[90m━━━━━━━━━━━━━━━━━━━━━━━━━━━━━━━━━━━━━━━━\u001b[0m \u001b[32m7.9/7.9 MB\u001b[0m \u001b[31m11.2 MB/s\u001b[0m eta \u001b[36m0:00:00\u001b[0m00:01\u001b[0m00:01\u001b[0m\n",
      "\u001b[?25hBuilding wheels for collected packages: peewee\n",
      "  Building wheel for peewee (pyproject.toml) ... \u001b[?25ldone\n",
      "\u001b[?25h  Created wheel for peewee: filename=peewee-3.17.0-cp310-cp310-linux_x86_64.whl size=845938 sha256=2d677070f553b3403913505b8765be4ae7b7e139dc368d4ac6deb8db799f4b40\n",
      "  Stored in directory: /home/javier/.cache/pip/wheels/c7/70/ad/212867e96e7004265a69c4aa5dcff00a95f547a67ba26e7e76\n",
      "Successfully built peewee\n",
      "Installing collected packages: peewee, multitasking, lxml, html5lib, frozendict, yfinance\n",
      "Successfully installed frozendict-2.3.10 html5lib-1.1 lxml-4.9.3 multitasking-0.0.11 peewee-3.17.0 yfinance-0.2.32\n"
     ]
    }
   ],
   "source": [
    "!pip install yfinance\n"
   ]
  },
  {
   "cell_type": "markdown",
   "id": "d149f142-59ee-4ce3-be7e-33fac3ca95dd",
   "metadata": {},
   "source": [
    "### __*Import some example data from yfinance*__"
   ]
  },
  {
   "cell_type": "code",
   "execution_count": 6,
   "id": "766a60d8-e1f9-4e25-b532-ebd7459a7a7e",
   "metadata": {},
   "outputs": [
    {
     "name": "stdout",
     "output_type": "stream",
     "text": [
      "[*********************100%%**********************]  1 of 1 completed\n",
      "[*********************100%%**********************]  1 of 1 completed\n",
      "[*********************100%%**********************]  1 of 1 completed\n",
      "[*********************100%%**********************]  1 of 1 completed\n"
     ]
    }
   ],
   "source": [
    "import yfinance as yf\n",
    "import pandas as pd\n",
    "\n",
    "# List of stock symbols\n",
    "stocks = ['AAPL', 'GOOGL', 'MSFT', 'AMZN']\n",
    "\n",
    "# Set the start and end dates\n",
    "start_date = '2022-01-01'\n",
    "end_date = '2023-01-01'\n",
    "\n",
    "# Retrieve hourly data for each stock\n",
    "dfs = []\n",
    "for stock in stocks:\n",
    "    # Download data\n",
    "    stock_data = yf.download(stock, start=start_date, end=end_date, interval='1h')\n",
    "\n",
    "    # Select only the 'Close' column\n",
    "    stock_data = stock_data['Close']\n",
    "\n",
    "    # Rename the column to the stock symbol\n",
    "    stock_data = stock_data.rename(stock)\n",
    "\n",
    "    # Add to the list of DataFrames\n",
    "    dfs.append(stock_data)\n",
    "\n",
    "# Concatenate DataFrames along the columns\n",
    "df = pd.concat(dfs, axis=1)\n"
   ]
  },
  {
   "cell_type": "code",
   "execution_count": 7,
   "id": "fb8ec20d-4bf1-4910-a677-6a81c821366f",
   "metadata": {},
   "outputs": [
    {
     "data": {
      "text/html": [
       "<div>\n",
       "<style scoped>\n",
       "    .dataframe tbody tr th:only-of-type {\n",
       "        vertical-align: middle;\n",
       "    }\n",
       "\n",
       "    .dataframe tbody tr th {\n",
       "        vertical-align: top;\n",
       "    }\n",
       "\n",
       "    .dataframe thead th {\n",
       "        text-align: right;\n",
       "    }\n",
       "</style>\n",
       "<table border=\"1\" class=\"dataframe\">\n",
       "  <thead>\n",
       "    <tr style=\"text-align: right;\">\n",
       "      <th></th>\n",
       "      <th>AAPL</th>\n",
       "      <th>GOOGL</th>\n",
       "      <th>MSFT</th>\n",
       "      <th>AMZN</th>\n",
       "    </tr>\n",
       "    <tr>\n",
       "      <th>Datetime</th>\n",
       "      <th></th>\n",
       "      <th></th>\n",
       "      <th></th>\n",
       "      <th></th>\n",
       "    </tr>\n",
       "  </thead>\n",
       "  <tbody>\n",
       "    <tr>\n",
       "      <th>2022-01-03 09:30:00-05:00</th>\n",
       "      <td>180.839996</td>\n",
       "      <td>144.700500</td>\n",
       "      <td>332.549988</td>\n",
       "      <td>168.761993</td>\n",
       "    </tr>\n",
       "    <tr>\n",
       "      <th>2022-01-03 10:30:00-05:00</th>\n",
       "      <td>181.749893</td>\n",
       "      <td>144.631012</td>\n",
       "      <td>331.989990</td>\n",
       "      <td>170.313858</td>\n",
       "    </tr>\n",
       "    <tr>\n",
       "      <th>2022-01-03 11:30:00-05:00</th>\n",
       "      <td>181.600006</td>\n",
       "      <td>144.787003</td>\n",
       "      <td>332.640015</td>\n",
       "      <td>170.071381</td>\n",
       "    </tr>\n",
       "    <tr>\n",
       "      <th>2022-01-03 12:30:00-05:00</th>\n",
       "      <td>182.229706</td>\n",
       "      <td>145.518005</td>\n",
       "      <td>332.320007</td>\n",
       "      <td>169.931244</td>\n",
       "    </tr>\n",
       "    <tr>\n",
       "      <th>2022-01-03 13:30:00-05:00</th>\n",
       "      <td>181.865005</td>\n",
       "      <td>144.955505</td>\n",
       "      <td>333.726593</td>\n",
       "      <td>170.438004</td>\n",
       "    </tr>\n",
       "    <tr>\n",
       "      <th>...</th>\n",
       "      <td>...</td>\n",
       "      <td>...</td>\n",
       "      <td>...</td>\n",
       "      <td>...</td>\n",
       "    </tr>\n",
       "    <tr>\n",
       "      <th>2022-12-30 11:30:00-05:00</th>\n",
       "      <td>128.815002</td>\n",
       "      <td>87.436699</td>\n",
       "      <td>239.050003</td>\n",
       "      <td>83.074997</td>\n",
       "    </tr>\n",
       "    <tr>\n",
       "      <th>2022-12-30 12:30:00-05:00</th>\n",
       "      <td>128.330002</td>\n",
       "      <td>87.000000</td>\n",
       "      <td>237.919998</td>\n",
       "      <td>82.745003</td>\n",
       "    </tr>\n",
       "    <tr>\n",
       "      <th>2022-12-30 13:30:00-05:00</th>\n",
       "      <td>128.220001</td>\n",
       "      <td>87.129997</td>\n",
       "      <td>237.559998</td>\n",
       "      <td>82.790001</td>\n",
       "    </tr>\n",
       "    <tr>\n",
       "      <th>2022-12-30 14:30:00-05:00</th>\n",
       "      <td>128.910004</td>\n",
       "      <td>87.511497</td>\n",
       "      <td>238.179993</td>\n",
       "      <td>82.949997</td>\n",
       "    </tr>\n",
       "    <tr>\n",
       "      <th>2022-12-30 15:30:00-05:00</th>\n",
       "      <td>129.949997</td>\n",
       "      <td>88.239998</td>\n",
       "      <td>239.830002</td>\n",
       "      <td>84.000000</td>\n",
       "    </tr>\n",
       "  </tbody>\n",
       "</table>\n",
       "<p>1753 rows × 4 columns</p>\n",
       "</div>"
      ],
      "text/plain": [
       "                                 AAPL       GOOGL        MSFT        AMZN\n",
       "Datetime                                                                 \n",
       "2022-01-03 09:30:00-05:00  180.839996  144.700500  332.549988  168.761993\n",
       "2022-01-03 10:30:00-05:00  181.749893  144.631012  331.989990  170.313858\n",
       "2022-01-03 11:30:00-05:00  181.600006  144.787003  332.640015  170.071381\n",
       "2022-01-03 12:30:00-05:00  182.229706  145.518005  332.320007  169.931244\n",
       "2022-01-03 13:30:00-05:00  181.865005  144.955505  333.726593  170.438004\n",
       "...                               ...         ...         ...         ...\n",
       "2022-12-30 11:30:00-05:00  128.815002   87.436699  239.050003   83.074997\n",
       "2022-12-30 12:30:00-05:00  128.330002   87.000000  237.919998   82.745003\n",
       "2022-12-30 13:30:00-05:00  128.220001   87.129997  237.559998   82.790001\n",
       "2022-12-30 14:30:00-05:00  128.910004   87.511497  238.179993   82.949997\n",
       "2022-12-30 15:30:00-05:00  129.949997   88.239998  239.830002   84.000000\n",
       "\n",
       "[1753 rows x 4 columns]"
      ]
     },
     "execution_count": 7,
     "metadata": {},
     "output_type": "execute_result"
    }
   ],
   "source": [
    "df\n"
   ]
  },
  {
   "cell_type": "code",
   "execution_count": 8,
   "id": "a6b6c826-bc96-49d4-8c10-9bde71c06f18",
   "metadata": {},
   "outputs": [
    {
     "name": "stdout",
     "output_type": "stream",
     "text": [
      "<class 'pandas.core.frame.DataFrame'>\n",
      "DatetimeIndex: 1753 entries, 2022-01-03 09:30:00-05:00 to 2022-12-30 15:30:00-05:00\n",
      "Data columns (total 4 columns):\n",
      " #   Column  Non-Null Count  Dtype  \n",
      "---  ------  --------------  -----  \n",
      " 0   AAPL    1753 non-null   float64\n",
      " 1   GOOGL   1753 non-null   float64\n",
      " 2   MSFT    1753 non-null   float64\n",
      " 3   AMZN    1753 non-null   float64\n",
      "dtypes: float64(4)\n",
      "memory usage: 68.5 KB\n"
     ]
    }
   ],
   "source": [
    "df.info()\n"
   ]
  },
  {
   "cell_type": "markdown",
   "id": "cb5d8e39-45ec-4b06-bab3-0518142e608e",
   "metadata": {},
   "source": [
    "### __*Convert the pandas dataframe in a darts timeseries object (we need a datetime index!)*__"
   ]
  },
  {
   "cell_type": "code",
   "execution_count": 9,
   "id": "3acd1910-5e69-4063-aba0-a3053464934c",
   "metadata": {},
   "outputs": [],
   "source": [
    "# Convert the DataFrame to a Darts TimeSeries\n",
    "# Index must be datetimeindex\n",
    "timeseries = TimeSeries.from_dataframe(df, freq='H')\n"
   ]
  },
  {
   "cell_type": "markdown",
   "id": "d9f9205d-20ca-4e36-bde3-f1a618733a72",
   "metadata": {},
   "source": [
    "### __*Scale the data using the Darts sklearn wrapper*__"
   ]
  },
  {
   "cell_type": "code",
   "execution_count": 7,
   "id": "1a0f60ed-4ab1-41d8-8e21-1ed9b6aab693",
   "metadata": {},
   "outputs": [],
   "source": [
    "from darts.dataprocessing.transformers.scaler import Scaler\n",
    "from sklearn.preprocessing import MinMaxScaler\n",
    "scaler = MinMaxScaler()\n",
    "ts_transformer = Scaler(scaler)\n",
    "target_transformer = Scaler(scaler)\n"
   ]
  },
  {
   "cell_type": "code",
   "execution_count": 9,
   "id": "a049f26c-5dc7-4717-be13-490b86510800",
   "metadata": {},
   "outputs": [],
   "source": [
    "scaled_ts = ts_transformer.fit_transform(timeseries)\n",
    "target_transformer = target_transformer.fit(timeseries['AAPL'])\n"
   ]
  },
  {
   "cell_type": "code",
   "execution_count": 10,
   "id": "de2219a2-61e3-4f55-99a8-da71b4354ac6",
   "metadata": {
    "tags": []
   },
   "outputs": [
    {
     "data": {
      "text/html": [
       "<div><svg style=\"position: absolute; width: 0; height: 0; overflow: hidden\">\n",
       "<defs>\n",
       "<symbol id=\"icon-database\" viewBox=\"0 0 32 32\">\n",
       "<path d=\"M16 0c-8.837 0-16 2.239-16 5v4c0 2.761 7.163 5 16 5s16-2.239 16-5v-4c0-2.761-7.163-5-16-5z\"></path>\n",
       "<path d=\"M16 17c-8.837 0-16-2.239-16-5v6c0 2.761 7.163 5 16 5s16-2.239 16-5v-6c0 2.761-7.163 5-16 5z\"></path>\n",
       "<path d=\"M16 26c-8.837 0-16-2.239-16-5v6c0 2.761 7.163 5 16 5s16-2.239 16-5v-6c0 2.761-7.163 5-16 5z\"></path>\n",
       "</symbol>\n",
       "<symbol id=\"icon-file-text2\" viewBox=\"0 0 32 32\">\n",
       "<path d=\"M28.681 7.159c-0.694-0.947-1.662-2.053-2.724-3.116s-2.169-2.030-3.116-2.724c-1.612-1.182-2.393-1.319-2.841-1.319h-15.5c-1.378 0-2.5 1.121-2.5 2.5v27c0 1.378 1.122 2.5 2.5 2.5h23c1.378 0 2.5-1.122 2.5-2.5v-19.5c0-0.448-0.137-1.23-1.319-2.841zM24.543 5.457c0.959 0.959 1.712 1.825 2.268 2.543h-4.811v-4.811c0.718 0.556 1.584 1.309 2.543 2.268zM28 29.5c0 0.271-0.229 0.5-0.5 0.5h-23c-0.271 0-0.5-0.229-0.5-0.5v-27c0-0.271 0.229-0.5 0.5-0.5 0 0 15.499-0 15.5 0v7c0 0.552 0.448 1 1 1h7v19.5z\"></path>\n",
       "<path d=\"M23 26h-14c-0.552 0-1-0.448-1-1s0.448-1 1-1h14c0.552 0 1 0.448 1 1s-0.448 1-1 1z\"></path>\n",
       "<path d=\"M23 22h-14c-0.552 0-1-0.448-1-1s0.448-1 1-1h14c0.552 0 1 0.448 1 1s-0.448 1-1 1z\"></path>\n",
       "<path d=\"M23 18h-14c-0.552 0-1-0.448-1-1s0.448-1 1-1h14c0.552 0 1 0.448 1 1s-0.448 1-1 1z\"></path>\n",
       "</symbol>\n",
       "</defs>\n",
       "</svg>\n",
       "<style>/* CSS stylesheet for displaying xarray objects in jupyterlab.\n",
       " *\n",
       " */\n",
       "\n",
       ":root {\n",
       "  --xr-font-color0: var(--jp-content-font-color0, rgba(0, 0, 0, 1));\n",
       "  --xr-font-color2: var(--jp-content-font-color2, rgba(0, 0, 0, 0.54));\n",
       "  --xr-font-color3: var(--jp-content-font-color3, rgba(0, 0, 0, 0.38));\n",
       "  --xr-border-color: var(--jp-border-color2, #e0e0e0);\n",
       "  --xr-disabled-color: var(--jp-layout-color3, #bdbdbd);\n",
       "  --xr-background-color: var(--jp-layout-color0, white);\n",
       "  --xr-background-color-row-even: var(--jp-layout-color1, white);\n",
       "  --xr-background-color-row-odd: var(--jp-layout-color2, #eeeeee);\n",
       "}\n",
       "\n",
       "html[theme=dark],\n",
       "body[data-theme=dark],\n",
       "body.vscode-dark {\n",
       "  --xr-font-color0: rgba(255, 255, 255, 1);\n",
       "  --xr-font-color2: rgba(255, 255, 255, 0.54);\n",
       "  --xr-font-color3: rgba(255, 255, 255, 0.38);\n",
       "  --xr-border-color: #1F1F1F;\n",
       "  --xr-disabled-color: #515151;\n",
       "  --xr-background-color: #111111;\n",
       "  --xr-background-color-row-even: #111111;\n",
       "  --xr-background-color-row-odd: #313131;\n",
       "}\n",
       "\n",
       ".xr-wrap {\n",
       "  display: block !important;\n",
       "  min-width: 300px;\n",
       "  max-width: 700px;\n",
       "}\n",
       "\n",
       ".xr-text-repr-fallback {\n",
       "  /* fallback to plain text repr when CSS is not injected (untrusted notebook) */\n",
       "  display: none;\n",
       "}\n",
       "\n",
       ".xr-header {\n",
       "  padding-top: 6px;\n",
       "  padding-bottom: 6px;\n",
       "  margin-bottom: 4px;\n",
       "  border-bottom: solid 1px var(--xr-border-color);\n",
       "}\n",
       "\n",
       ".xr-header > div,\n",
       ".xr-header > ul {\n",
       "  display: inline;\n",
       "  margin-top: 0;\n",
       "  margin-bottom: 0;\n",
       "}\n",
       "\n",
       ".xr-obj-type,\n",
       ".xr-array-name {\n",
       "  margin-left: 2px;\n",
       "  margin-right: 10px;\n",
       "}\n",
       "\n",
       ".xr-obj-type {\n",
       "  color: var(--xr-font-color2);\n",
       "}\n",
       "\n",
       ".xr-sections {\n",
       "  padding-left: 0 !important;\n",
       "  display: grid;\n",
       "  grid-template-columns: 150px auto auto 1fr 20px 20px;\n",
       "}\n",
       "\n",
       ".xr-section-item {\n",
       "  display: contents;\n",
       "}\n",
       "\n",
       ".xr-section-item input {\n",
       "  display: none;\n",
       "}\n",
       "\n",
       ".xr-section-item input + label {\n",
       "  color: var(--xr-disabled-color);\n",
       "}\n",
       "\n",
       ".xr-section-item input:enabled + label {\n",
       "  cursor: pointer;\n",
       "  color: var(--xr-font-color2);\n",
       "}\n",
       "\n",
       ".xr-section-item input:enabled + label:hover {\n",
       "  color: var(--xr-font-color0);\n",
       "}\n",
       "\n",
       ".xr-section-summary {\n",
       "  grid-column: 1;\n",
       "  color: var(--xr-font-color2);\n",
       "  font-weight: 500;\n",
       "}\n",
       "\n",
       ".xr-section-summary > span {\n",
       "  display: inline-block;\n",
       "  padding-left: 0.5em;\n",
       "}\n",
       "\n",
       ".xr-section-summary-in:disabled + label {\n",
       "  color: var(--xr-font-color2);\n",
       "}\n",
       "\n",
       ".xr-section-summary-in + label:before {\n",
       "  display: inline-block;\n",
       "  content: '►';\n",
       "  font-size: 11px;\n",
       "  width: 15px;\n",
       "  text-align: center;\n",
       "}\n",
       "\n",
       ".xr-section-summary-in:disabled + label:before {\n",
       "  color: var(--xr-disabled-color);\n",
       "}\n",
       "\n",
       ".xr-section-summary-in:checked + label:before {\n",
       "  content: '▼';\n",
       "}\n",
       "\n",
       ".xr-section-summary-in:checked + label > span {\n",
       "  display: none;\n",
       "}\n",
       "\n",
       ".xr-section-summary,\n",
       ".xr-section-inline-details {\n",
       "  padding-top: 4px;\n",
       "  padding-bottom: 4px;\n",
       "}\n",
       "\n",
       ".xr-section-inline-details {\n",
       "  grid-column: 2 / -1;\n",
       "}\n",
       "\n",
       ".xr-section-details {\n",
       "  display: none;\n",
       "  grid-column: 1 / -1;\n",
       "  margin-bottom: 5px;\n",
       "}\n",
       "\n",
       ".xr-section-summary-in:checked ~ .xr-section-details {\n",
       "  display: contents;\n",
       "}\n",
       "\n",
       ".xr-array-wrap {\n",
       "  grid-column: 1 / -1;\n",
       "  display: grid;\n",
       "  grid-template-columns: 20px auto;\n",
       "}\n",
       "\n",
       ".xr-array-wrap > label {\n",
       "  grid-column: 1;\n",
       "  vertical-align: top;\n",
       "}\n",
       "\n",
       ".xr-preview {\n",
       "  color: var(--xr-font-color3);\n",
       "}\n",
       "\n",
       ".xr-array-preview,\n",
       ".xr-array-data {\n",
       "  padding: 0 5px !important;\n",
       "  grid-column: 2;\n",
       "}\n",
       "\n",
       ".xr-array-data,\n",
       ".xr-array-in:checked ~ .xr-array-preview {\n",
       "  display: none;\n",
       "}\n",
       "\n",
       ".xr-array-in:checked ~ .xr-array-data,\n",
       ".xr-array-preview {\n",
       "  display: inline-block;\n",
       "}\n",
       "\n",
       ".xr-dim-list {\n",
       "  display: inline-block !important;\n",
       "  list-style: none;\n",
       "  padding: 0 !important;\n",
       "  margin: 0;\n",
       "}\n",
       "\n",
       ".xr-dim-list li {\n",
       "  display: inline-block;\n",
       "  padding: 0;\n",
       "  margin: 0;\n",
       "}\n",
       "\n",
       ".xr-dim-list:before {\n",
       "  content: '(';\n",
       "}\n",
       "\n",
       ".xr-dim-list:after {\n",
       "  content: ')';\n",
       "}\n",
       "\n",
       ".xr-dim-list li:not(:last-child):after {\n",
       "  content: ',';\n",
       "  padding-right: 5px;\n",
       "}\n",
       "\n",
       ".xr-has-index {\n",
       "  font-weight: bold;\n",
       "}\n",
       "\n",
       ".xr-var-list,\n",
       ".xr-var-item {\n",
       "  display: contents;\n",
       "}\n",
       "\n",
       ".xr-var-item > div,\n",
       ".xr-var-item label,\n",
       ".xr-var-item > .xr-var-name span {\n",
       "  background-color: var(--xr-background-color-row-even);\n",
       "  margin-bottom: 0;\n",
       "}\n",
       "\n",
       ".xr-var-item > .xr-var-name:hover span {\n",
       "  padding-right: 5px;\n",
       "}\n",
       "\n",
       ".xr-var-list > li:nth-child(odd) > div,\n",
       ".xr-var-list > li:nth-child(odd) > label,\n",
       ".xr-var-list > li:nth-child(odd) > .xr-var-name span {\n",
       "  background-color: var(--xr-background-color-row-odd);\n",
       "}\n",
       "\n",
       ".xr-var-name {\n",
       "  grid-column: 1;\n",
       "}\n",
       "\n",
       ".xr-var-dims {\n",
       "  grid-column: 2;\n",
       "}\n",
       "\n",
       ".xr-var-dtype {\n",
       "  grid-column: 3;\n",
       "  text-align: right;\n",
       "  color: var(--xr-font-color2);\n",
       "}\n",
       "\n",
       ".xr-var-preview {\n",
       "  grid-column: 4;\n",
       "}\n",
       "\n",
       ".xr-index-preview {\n",
       "  grid-column: 2 / 5;\n",
       "  color: var(--xr-font-color2);\n",
       "}\n",
       "\n",
       ".xr-var-name,\n",
       ".xr-var-dims,\n",
       ".xr-var-dtype,\n",
       ".xr-preview,\n",
       ".xr-attrs dt {\n",
       "  white-space: nowrap;\n",
       "  overflow: hidden;\n",
       "  text-overflow: ellipsis;\n",
       "  padding-right: 10px;\n",
       "}\n",
       "\n",
       ".xr-var-name:hover,\n",
       ".xr-var-dims:hover,\n",
       ".xr-var-dtype:hover,\n",
       ".xr-attrs dt:hover {\n",
       "  overflow: visible;\n",
       "  width: auto;\n",
       "  z-index: 1;\n",
       "}\n",
       "\n",
       ".xr-var-attrs,\n",
       ".xr-var-data,\n",
       ".xr-index-data {\n",
       "  display: none;\n",
       "  background-color: var(--xr-background-color) !important;\n",
       "  padding-bottom: 5px !important;\n",
       "}\n",
       "\n",
       ".xr-var-attrs-in:checked ~ .xr-var-attrs,\n",
       ".xr-var-data-in:checked ~ .xr-var-data,\n",
       ".xr-index-data-in:checked ~ .xr-index-data {\n",
       "  display: block;\n",
       "}\n",
       "\n",
       ".xr-var-data > table {\n",
       "  float: right;\n",
       "}\n",
       "\n",
       ".xr-var-name span,\n",
       ".xr-var-data,\n",
       ".xr-index-name div,\n",
       ".xr-index-data,\n",
       ".xr-attrs {\n",
       "  padding-left: 25px !important;\n",
       "}\n",
       "\n",
       ".xr-attrs,\n",
       ".xr-var-attrs,\n",
       ".xr-var-data,\n",
       ".xr-index-data {\n",
       "  grid-column: 1 / -1;\n",
       "}\n",
       "\n",
       "dl.xr-attrs {\n",
       "  padding: 0;\n",
       "  margin: 0;\n",
       "  display: grid;\n",
       "  grid-template-columns: 125px auto;\n",
       "}\n",
       "\n",
       ".xr-attrs dt,\n",
       ".xr-attrs dd {\n",
       "  padding: 0;\n",
       "  margin: 0;\n",
       "  float: left;\n",
       "  padding-right: 10px;\n",
       "  width: auto;\n",
       "}\n",
       "\n",
       ".xr-attrs dt {\n",
       "  font-weight: normal;\n",
       "  grid-column: 1;\n",
       "}\n",
       "\n",
       ".xr-attrs dt:hover span {\n",
       "  display: inline-block;\n",
       "  background: var(--xr-background-color);\n",
       "  padding-right: 10px;\n",
       "}\n",
       "\n",
       ".xr-attrs dd {\n",
       "  grid-column: 2;\n",
       "  white-space: pre-wrap;\n",
       "  word-break: break-all;\n",
       "}\n",
       "\n",
       ".xr-icon-database,\n",
       ".xr-icon-file-text2,\n",
       ".xr-no-icon {\n",
       "  display: inline-block;\n",
       "  vertical-align: middle;\n",
       "  width: 1em;\n",
       "  height: 1.5em !important;\n",
       "  stroke-width: 0;\n",
       "  stroke: currentColor;\n",
       "  fill: currentColor;\n",
       "}\n",
       "</style><pre class='xr-text-repr-fallback'>&lt;TimeSeries (DataArray) (Datetime: 8671, component: 4, sample: 1)&gt;\n",
       "array([[[0.97491097],\n",
       "        [0.93221034],\n",
       "        [0.9818257 ],\n",
       "        [0.98108512]],\n",
       "\n",
       "       [[0.9911013 ],\n",
       "        [0.93115344],\n",
       "        [0.97717842],\n",
       "        [0.99859894]],\n",
       "\n",
       "       [[0.98843427],\n",
       "        [0.93352601],\n",
       "        [0.98257281],\n",
       "        [0.99586242]],\n",
       "\n",
       "       ...,\n",
       "\n",
       "       [[0.03861207],\n",
       "        [0.05658   ],\n",
       "        [0.19352693],\n",
       "        [0.01083423]],\n",
       "\n",
       "       [[0.05088969],\n",
       "        [0.06238251],\n",
       "        [0.19867212],\n",
       "        [0.01263989]],\n",
       "\n",
       "       [[0.06939491],\n",
       "        [0.07346278],\n",
       "        [0.21236514],\n",
       "        [0.02448987]]])\n",
       "Coordinates:\n",
       "  * Datetime   (Datetime) datetime64[ns] 2022-01-03T09:30:00 ... 2022-12-30T1...\n",
       "  * component  (component) object &#x27;AAPL&#x27; &#x27;GOOGL&#x27; &#x27;MSFT&#x27; &#x27;AMZN&#x27;\n",
       "Dimensions without coordinates: sample\n",
       "Attributes:\n",
       "    static_covariates:  None\n",
       "    hierarchy:          None</pre><div class='xr-wrap' style='display:none'><div class='xr-header'><div class='xr-obj-type'>TimeSeries (DataArray)</div><div class='xr-array-name'></div><ul class='xr-dim-list'><li><span class='xr-has-index'>Datetime</span>: 8671</li><li><span class='xr-has-index'>component</span>: 4</li><li><span>sample</span>: 1</li></ul></div><ul class='xr-sections'><li class='xr-section-item'><div class='xr-array-wrap'><input id='section-a7d12461-7ace-4882-89fb-064cceeb8b1b' class='xr-array-in' type='checkbox' checked><label for='section-a7d12461-7ace-4882-89fb-064cceeb8b1b' title='Show/hide data repr'><svg class='icon xr-icon-database'><use xlink:href='#icon-database'></use></svg></label><div class='xr-array-preview xr-preview'><span>0.9749 0.9322 0.9818 0.9811 0.9911 ... 0.06939 0.07346 0.2124 0.02449</span></div><div class='xr-array-data'><pre>array([[[0.97491097],\n",
       "        [0.93221034],\n",
       "        [0.9818257 ],\n",
       "        [0.98108512]],\n",
       "\n",
       "       [[0.9911013 ],\n",
       "        [0.93115344],\n",
       "        [0.97717842],\n",
       "        [0.99859894]],\n",
       "\n",
       "       [[0.98843427],\n",
       "        [0.93352601],\n",
       "        [0.98257281],\n",
       "        [0.99586242]],\n",
       "\n",
       "       ...,\n",
       "\n",
       "       [[0.03861207],\n",
       "        [0.05658   ],\n",
       "        [0.19352693],\n",
       "        [0.01083423]],\n",
       "\n",
       "       [[0.05088969],\n",
       "        [0.06238251],\n",
       "        [0.19867212],\n",
       "        [0.01263989]],\n",
       "\n",
       "       [[0.06939491],\n",
       "        [0.07346278],\n",
       "        [0.21236514],\n",
       "        [0.02448987]]])</pre></div></div></li><li class='xr-section-item'><input id='section-205d0faf-9f37-4afb-91a6-7c783130cb5f' class='xr-section-summary-in' type='checkbox'  checked><label for='section-205d0faf-9f37-4afb-91a6-7c783130cb5f' class='xr-section-summary' >Coordinates: <span>(2)</span></label><div class='xr-section-inline-details'></div><div class='xr-section-details'><ul class='xr-var-list'><li class='xr-var-item'><div class='xr-var-name'><span class='xr-has-index'>Datetime</span></div><div class='xr-var-dims'>(Datetime)</div><div class='xr-var-dtype'>datetime64[ns]</div><div class='xr-var-preview xr-preview'>2022-01-03T09:30:00 ... 2022-12-...</div><input id='attrs-d580dce7-b89f-419c-9c1a-5ccccdc3e815' class='xr-var-attrs-in' type='checkbox' disabled><label for='attrs-d580dce7-b89f-419c-9c1a-5ccccdc3e815' title='Show/Hide attributes'><svg class='icon xr-icon-file-text2'><use xlink:href='#icon-file-text2'></use></svg></label><input id='data-6314ef14-21c9-47c5-9937-26bae8bfacff' class='xr-var-data-in' type='checkbox'><label for='data-6314ef14-21c9-47c5-9937-26bae8bfacff' title='Show/Hide data repr'><svg class='icon xr-icon-database'><use xlink:href='#icon-database'></use></svg></label><div class='xr-var-attrs'><dl class='xr-attrs'></dl></div><div class='xr-var-data'><pre>array([&#x27;2022-01-03T09:30:00.000000000&#x27;, &#x27;2022-01-03T10:30:00.000000000&#x27;,\n",
       "       &#x27;2022-01-03T11:30:00.000000000&#x27;, ..., &#x27;2022-12-30T13:30:00.000000000&#x27;,\n",
       "       &#x27;2022-12-30T14:30:00.000000000&#x27;, &#x27;2022-12-30T15:30:00.000000000&#x27;],\n",
       "      dtype=&#x27;datetime64[ns]&#x27;)</pre></div></li><li class='xr-var-item'><div class='xr-var-name'><span class='xr-has-index'>component</span></div><div class='xr-var-dims'>(component)</div><div class='xr-var-dtype'>object</div><div class='xr-var-preview xr-preview'>&#x27;AAPL&#x27; &#x27;GOOGL&#x27; &#x27;MSFT&#x27; &#x27;AMZN&#x27;</div><input id='attrs-351924c8-062a-4e2f-a85c-3edf757723ea' class='xr-var-attrs-in' type='checkbox' disabled><label for='attrs-351924c8-062a-4e2f-a85c-3edf757723ea' title='Show/Hide attributes'><svg class='icon xr-icon-file-text2'><use xlink:href='#icon-file-text2'></use></svg></label><input id='data-914d9087-c2c4-48fc-8a53-3f01744781ab' class='xr-var-data-in' type='checkbox'><label for='data-914d9087-c2c4-48fc-8a53-3f01744781ab' title='Show/Hide data repr'><svg class='icon xr-icon-database'><use xlink:href='#icon-database'></use></svg></label><div class='xr-var-attrs'><dl class='xr-attrs'></dl></div><div class='xr-var-data'><pre>array([&#x27;AAPL&#x27;, &#x27;GOOGL&#x27;, &#x27;MSFT&#x27;, &#x27;AMZN&#x27;], dtype=object)</pre></div></li></ul></div></li><li class='xr-section-item'><input id='section-6d22fda2-3647-4c4c-9cd7-45fc0a9e3af8' class='xr-section-summary-in' type='checkbox'  ><label for='section-6d22fda2-3647-4c4c-9cd7-45fc0a9e3af8' class='xr-section-summary' >Indexes: <span>(2)</span></label><div class='xr-section-inline-details'></div><div class='xr-section-details'><ul class='xr-var-list'><li class='xr-var-item'><div class='xr-index-name'><div>Datetime</div></div><div class='xr-index-preview'>PandasIndex</div><div></div><input id='index-1cebebd6-ca03-4942-85b1-b6dc30d3bc52' class='xr-index-data-in' type='checkbox'/><label for='index-1cebebd6-ca03-4942-85b1-b6dc30d3bc52' title='Show/Hide index repr'><svg class='icon xr-icon-database'><use xlink:href='#icon-database'></use></svg></label><div class='xr-index-data'><pre>PandasIndex(DatetimeIndex([&#x27;2022-01-03 09:30:00&#x27;, &#x27;2022-01-03 10:30:00&#x27;,\n",
       "               &#x27;2022-01-03 11:30:00&#x27;, &#x27;2022-01-03 12:30:00&#x27;,\n",
       "               &#x27;2022-01-03 13:30:00&#x27;, &#x27;2022-01-03 14:30:00&#x27;,\n",
       "               &#x27;2022-01-03 15:30:00&#x27;, &#x27;2022-01-03 16:30:00&#x27;,\n",
       "               &#x27;2022-01-03 17:30:00&#x27;, &#x27;2022-01-03 18:30:00&#x27;,\n",
       "               ...\n",
       "               &#x27;2022-12-30 06:30:00&#x27;, &#x27;2022-12-30 07:30:00&#x27;,\n",
       "               &#x27;2022-12-30 08:30:00&#x27;, &#x27;2022-12-30 09:30:00&#x27;,\n",
       "               &#x27;2022-12-30 10:30:00&#x27;, &#x27;2022-12-30 11:30:00&#x27;,\n",
       "               &#x27;2022-12-30 12:30:00&#x27;, &#x27;2022-12-30 13:30:00&#x27;,\n",
       "               &#x27;2022-12-30 14:30:00&#x27;, &#x27;2022-12-30 15:30:00&#x27;],\n",
       "              dtype=&#x27;datetime64[ns]&#x27;, name=&#x27;Datetime&#x27;, length=8671, freq=&#x27;H&#x27;))</pre></div></li><li class='xr-var-item'><div class='xr-index-name'><div>component</div></div><div class='xr-index-preview'>PandasIndex</div><div></div><input id='index-0c0f9538-8523-45f3-8bf5-d8647a56c1bb' class='xr-index-data-in' type='checkbox'/><label for='index-0c0f9538-8523-45f3-8bf5-d8647a56c1bb' title='Show/Hide index repr'><svg class='icon xr-icon-database'><use xlink:href='#icon-database'></use></svg></label><div class='xr-index-data'><pre>PandasIndex(Index([&#x27;AAPL&#x27;, &#x27;GOOGL&#x27;, &#x27;MSFT&#x27;, &#x27;AMZN&#x27;], dtype=&#x27;object&#x27;, name=&#x27;component&#x27;))</pre></div></li></ul></div></li><li class='xr-section-item'><input id='section-7d5b6ccd-7e29-4960-9437-7a88fdf8a1d5' class='xr-section-summary-in' type='checkbox'  checked><label for='section-7d5b6ccd-7e29-4960-9437-7a88fdf8a1d5' class='xr-section-summary' >Attributes: <span>(2)</span></label><div class='xr-section-inline-details'></div><div class='xr-section-details'><dl class='xr-attrs'><dt><span>static_covariates :</span></dt><dd>None</dd><dt><span>hierarchy :</span></dt><dd>None</dd></dl></div></li></ul></div></div>"
      ],
      "text/plain": [
       "<TimeSeries (DataArray) (Datetime: 8671, component: 4, sample: 1)>\n",
       "array([[[0.97491097],\n",
       "        [0.93221034],\n",
       "        [0.9818257 ],\n",
       "        [0.98108512]],\n",
       "\n",
       "       [[0.9911013 ],\n",
       "        [0.93115344],\n",
       "        [0.97717842],\n",
       "        [0.99859894]],\n",
       "\n",
       "       [[0.98843427],\n",
       "        [0.93352601],\n",
       "        [0.98257281],\n",
       "        [0.99586242]],\n",
       "\n",
       "       ...,\n",
       "\n",
       "       [[0.03861207],\n",
       "        [0.05658   ],\n",
       "        [0.19352693],\n",
       "        [0.01083423]],\n",
       "\n",
       "       [[0.05088969],\n",
       "        [0.06238251],\n",
       "        [0.19867212],\n",
       "        [0.01263989]],\n",
       "\n",
       "       [[0.06939491],\n",
       "        [0.07346278],\n",
       "        [0.21236514],\n",
       "        [0.02448987]]])\n",
       "Coordinates:\n",
       "  * Datetime   (Datetime) datetime64[ns] 2022-01-03T09:30:00 ... 2022-12-30T1...\n",
       "  * component  (component) object 'AAPL' 'GOOGL' 'MSFT' 'AMZN'\n",
       "Dimensions without coordinates: sample\n",
       "Attributes:\n",
       "    static_covariates:  None\n",
       "    hierarchy:          None"
      ]
     },
     "execution_count": 10,
     "metadata": {},
     "output_type": "execute_result"
    }
   ],
   "source": [
    "scaled_ts\n"
   ]
  },
  {
   "cell_type": "markdown",
   "id": "c3f7fcd3-d0a2-4fd6-a4c8-549f2dd2150a",
   "metadata": {},
   "source": [
    "### __*Handle missing values if you have*__\n",
    "### __*(in this example, weekends are not available since we are dealing with stock markets)*__"
   ]
  },
  {
   "cell_type": "code",
   "execution_count": 11,
   "id": "8d818601-9a3a-4a55-bda9-7bd2ce6c4b4f",
   "metadata": {
    "tags": []
   },
   "outputs": [
    {
     "data": {
      "text/html": [
       "<div><svg style=\"position: absolute; width: 0; height: 0; overflow: hidden\">\n",
       "<defs>\n",
       "<symbol id=\"icon-database\" viewBox=\"0 0 32 32\">\n",
       "<path d=\"M16 0c-8.837 0-16 2.239-16 5v4c0 2.761 7.163 5 16 5s16-2.239 16-5v-4c0-2.761-7.163-5-16-5z\"></path>\n",
       "<path d=\"M16 17c-8.837 0-16-2.239-16-5v6c0 2.761 7.163 5 16 5s16-2.239 16-5v-6c0 2.761-7.163 5-16 5z\"></path>\n",
       "<path d=\"M16 26c-8.837 0-16-2.239-16-5v6c0 2.761 7.163 5 16 5s16-2.239 16-5v-6c0 2.761-7.163 5-16 5z\"></path>\n",
       "</symbol>\n",
       "<symbol id=\"icon-file-text2\" viewBox=\"0 0 32 32\">\n",
       "<path d=\"M28.681 7.159c-0.694-0.947-1.662-2.053-2.724-3.116s-2.169-2.030-3.116-2.724c-1.612-1.182-2.393-1.319-2.841-1.319h-15.5c-1.378 0-2.5 1.121-2.5 2.5v27c0 1.378 1.122 2.5 2.5 2.5h23c1.378 0 2.5-1.122 2.5-2.5v-19.5c0-0.448-0.137-1.23-1.319-2.841zM24.543 5.457c0.959 0.959 1.712 1.825 2.268 2.543h-4.811v-4.811c0.718 0.556 1.584 1.309 2.543 2.268zM28 29.5c0 0.271-0.229 0.5-0.5 0.5h-23c-0.271 0-0.5-0.229-0.5-0.5v-27c0-0.271 0.229-0.5 0.5-0.5 0 0 15.499-0 15.5 0v7c0 0.552 0.448 1 1 1h7v19.5z\"></path>\n",
       "<path d=\"M23 26h-14c-0.552 0-1-0.448-1-1s0.448-1 1-1h14c0.552 0 1 0.448 1 1s-0.448 1-1 1z\"></path>\n",
       "<path d=\"M23 22h-14c-0.552 0-1-0.448-1-1s0.448-1 1-1h14c0.552 0 1 0.448 1 1s-0.448 1-1 1z\"></path>\n",
       "<path d=\"M23 18h-14c-0.552 0-1-0.448-1-1s0.448-1 1-1h14c0.552 0 1 0.448 1 1s-0.448 1-1 1z\"></path>\n",
       "</symbol>\n",
       "</defs>\n",
       "</svg>\n",
       "<style>/* CSS stylesheet for displaying xarray objects in jupyterlab.\n",
       " *\n",
       " */\n",
       "\n",
       ":root {\n",
       "  --xr-font-color0: var(--jp-content-font-color0, rgba(0, 0, 0, 1));\n",
       "  --xr-font-color2: var(--jp-content-font-color2, rgba(0, 0, 0, 0.54));\n",
       "  --xr-font-color3: var(--jp-content-font-color3, rgba(0, 0, 0, 0.38));\n",
       "  --xr-border-color: var(--jp-border-color2, #e0e0e0);\n",
       "  --xr-disabled-color: var(--jp-layout-color3, #bdbdbd);\n",
       "  --xr-background-color: var(--jp-layout-color0, white);\n",
       "  --xr-background-color-row-even: var(--jp-layout-color1, white);\n",
       "  --xr-background-color-row-odd: var(--jp-layout-color2, #eeeeee);\n",
       "}\n",
       "\n",
       "html[theme=dark],\n",
       "body[data-theme=dark],\n",
       "body.vscode-dark {\n",
       "  --xr-font-color0: rgba(255, 255, 255, 1);\n",
       "  --xr-font-color2: rgba(255, 255, 255, 0.54);\n",
       "  --xr-font-color3: rgba(255, 255, 255, 0.38);\n",
       "  --xr-border-color: #1F1F1F;\n",
       "  --xr-disabled-color: #515151;\n",
       "  --xr-background-color: #111111;\n",
       "  --xr-background-color-row-even: #111111;\n",
       "  --xr-background-color-row-odd: #313131;\n",
       "}\n",
       "\n",
       ".xr-wrap {\n",
       "  display: block !important;\n",
       "  min-width: 300px;\n",
       "  max-width: 700px;\n",
       "}\n",
       "\n",
       ".xr-text-repr-fallback {\n",
       "  /* fallback to plain text repr when CSS is not injected (untrusted notebook) */\n",
       "  display: none;\n",
       "}\n",
       "\n",
       ".xr-header {\n",
       "  padding-top: 6px;\n",
       "  padding-bottom: 6px;\n",
       "  margin-bottom: 4px;\n",
       "  border-bottom: solid 1px var(--xr-border-color);\n",
       "}\n",
       "\n",
       ".xr-header > div,\n",
       ".xr-header > ul {\n",
       "  display: inline;\n",
       "  margin-top: 0;\n",
       "  margin-bottom: 0;\n",
       "}\n",
       "\n",
       ".xr-obj-type,\n",
       ".xr-array-name {\n",
       "  margin-left: 2px;\n",
       "  margin-right: 10px;\n",
       "}\n",
       "\n",
       ".xr-obj-type {\n",
       "  color: var(--xr-font-color2);\n",
       "}\n",
       "\n",
       ".xr-sections {\n",
       "  padding-left: 0 !important;\n",
       "  display: grid;\n",
       "  grid-template-columns: 150px auto auto 1fr 20px 20px;\n",
       "}\n",
       "\n",
       ".xr-section-item {\n",
       "  display: contents;\n",
       "}\n",
       "\n",
       ".xr-section-item input {\n",
       "  display: none;\n",
       "}\n",
       "\n",
       ".xr-section-item input + label {\n",
       "  color: var(--xr-disabled-color);\n",
       "}\n",
       "\n",
       ".xr-section-item input:enabled + label {\n",
       "  cursor: pointer;\n",
       "  color: var(--xr-font-color2);\n",
       "}\n",
       "\n",
       ".xr-section-item input:enabled + label:hover {\n",
       "  color: var(--xr-font-color0);\n",
       "}\n",
       "\n",
       ".xr-section-summary {\n",
       "  grid-column: 1;\n",
       "  color: var(--xr-font-color2);\n",
       "  font-weight: 500;\n",
       "}\n",
       "\n",
       ".xr-section-summary > span {\n",
       "  display: inline-block;\n",
       "  padding-left: 0.5em;\n",
       "}\n",
       "\n",
       ".xr-section-summary-in:disabled + label {\n",
       "  color: var(--xr-font-color2);\n",
       "}\n",
       "\n",
       ".xr-section-summary-in + label:before {\n",
       "  display: inline-block;\n",
       "  content: '►';\n",
       "  font-size: 11px;\n",
       "  width: 15px;\n",
       "  text-align: center;\n",
       "}\n",
       "\n",
       ".xr-section-summary-in:disabled + label:before {\n",
       "  color: var(--xr-disabled-color);\n",
       "}\n",
       "\n",
       ".xr-section-summary-in:checked + label:before {\n",
       "  content: '▼';\n",
       "}\n",
       "\n",
       ".xr-section-summary-in:checked + label > span {\n",
       "  display: none;\n",
       "}\n",
       "\n",
       ".xr-section-summary,\n",
       ".xr-section-inline-details {\n",
       "  padding-top: 4px;\n",
       "  padding-bottom: 4px;\n",
       "}\n",
       "\n",
       ".xr-section-inline-details {\n",
       "  grid-column: 2 / -1;\n",
       "}\n",
       "\n",
       ".xr-section-details {\n",
       "  display: none;\n",
       "  grid-column: 1 / -1;\n",
       "  margin-bottom: 5px;\n",
       "}\n",
       "\n",
       ".xr-section-summary-in:checked ~ .xr-section-details {\n",
       "  display: contents;\n",
       "}\n",
       "\n",
       ".xr-array-wrap {\n",
       "  grid-column: 1 / -1;\n",
       "  display: grid;\n",
       "  grid-template-columns: 20px auto;\n",
       "}\n",
       "\n",
       ".xr-array-wrap > label {\n",
       "  grid-column: 1;\n",
       "  vertical-align: top;\n",
       "}\n",
       "\n",
       ".xr-preview {\n",
       "  color: var(--xr-font-color3);\n",
       "}\n",
       "\n",
       ".xr-array-preview,\n",
       ".xr-array-data {\n",
       "  padding: 0 5px !important;\n",
       "  grid-column: 2;\n",
       "}\n",
       "\n",
       ".xr-array-data,\n",
       ".xr-array-in:checked ~ .xr-array-preview {\n",
       "  display: none;\n",
       "}\n",
       "\n",
       ".xr-array-in:checked ~ .xr-array-data,\n",
       ".xr-array-preview {\n",
       "  display: inline-block;\n",
       "}\n",
       "\n",
       ".xr-dim-list {\n",
       "  display: inline-block !important;\n",
       "  list-style: none;\n",
       "  padding: 0 !important;\n",
       "  margin: 0;\n",
       "}\n",
       "\n",
       ".xr-dim-list li {\n",
       "  display: inline-block;\n",
       "  padding: 0;\n",
       "  margin: 0;\n",
       "}\n",
       "\n",
       ".xr-dim-list:before {\n",
       "  content: '(';\n",
       "}\n",
       "\n",
       ".xr-dim-list:after {\n",
       "  content: ')';\n",
       "}\n",
       "\n",
       ".xr-dim-list li:not(:last-child):after {\n",
       "  content: ',';\n",
       "  padding-right: 5px;\n",
       "}\n",
       "\n",
       ".xr-has-index {\n",
       "  font-weight: bold;\n",
       "}\n",
       "\n",
       ".xr-var-list,\n",
       ".xr-var-item {\n",
       "  display: contents;\n",
       "}\n",
       "\n",
       ".xr-var-item > div,\n",
       ".xr-var-item label,\n",
       ".xr-var-item > .xr-var-name span {\n",
       "  background-color: var(--xr-background-color-row-even);\n",
       "  margin-bottom: 0;\n",
       "}\n",
       "\n",
       ".xr-var-item > .xr-var-name:hover span {\n",
       "  padding-right: 5px;\n",
       "}\n",
       "\n",
       ".xr-var-list > li:nth-child(odd) > div,\n",
       ".xr-var-list > li:nth-child(odd) > label,\n",
       ".xr-var-list > li:nth-child(odd) > .xr-var-name span {\n",
       "  background-color: var(--xr-background-color-row-odd);\n",
       "}\n",
       "\n",
       ".xr-var-name {\n",
       "  grid-column: 1;\n",
       "}\n",
       "\n",
       ".xr-var-dims {\n",
       "  grid-column: 2;\n",
       "}\n",
       "\n",
       ".xr-var-dtype {\n",
       "  grid-column: 3;\n",
       "  text-align: right;\n",
       "  color: var(--xr-font-color2);\n",
       "}\n",
       "\n",
       ".xr-var-preview {\n",
       "  grid-column: 4;\n",
       "}\n",
       "\n",
       ".xr-index-preview {\n",
       "  grid-column: 2 / 5;\n",
       "  color: var(--xr-font-color2);\n",
       "}\n",
       "\n",
       ".xr-var-name,\n",
       ".xr-var-dims,\n",
       ".xr-var-dtype,\n",
       ".xr-preview,\n",
       ".xr-attrs dt {\n",
       "  white-space: nowrap;\n",
       "  overflow: hidden;\n",
       "  text-overflow: ellipsis;\n",
       "  padding-right: 10px;\n",
       "}\n",
       "\n",
       ".xr-var-name:hover,\n",
       ".xr-var-dims:hover,\n",
       ".xr-var-dtype:hover,\n",
       ".xr-attrs dt:hover {\n",
       "  overflow: visible;\n",
       "  width: auto;\n",
       "  z-index: 1;\n",
       "}\n",
       "\n",
       ".xr-var-attrs,\n",
       ".xr-var-data,\n",
       ".xr-index-data {\n",
       "  display: none;\n",
       "  background-color: var(--xr-background-color) !important;\n",
       "  padding-bottom: 5px !important;\n",
       "}\n",
       "\n",
       ".xr-var-attrs-in:checked ~ .xr-var-attrs,\n",
       ".xr-var-data-in:checked ~ .xr-var-data,\n",
       ".xr-index-data-in:checked ~ .xr-index-data {\n",
       "  display: block;\n",
       "}\n",
       "\n",
       ".xr-var-data > table {\n",
       "  float: right;\n",
       "}\n",
       "\n",
       ".xr-var-name span,\n",
       ".xr-var-data,\n",
       ".xr-index-name div,\n",
       ".xr-index-data,\n",
       ".xr-attrs {\n",
       "  padding-left: 25px !important;\n",
       "}\n",
       "\n",
       ".xr-attrs,\n",
       ".xr-var-attrs,\n",
       ".xr-var-data,\n",
       ".xr-index-data {\n",
       "  grid-column: 1 / -1;\n",
       "}\n",
       "\n",
       "dl.xr-attrs {\n",
       "  padding: 0;\n",
       "  margin: 0;\n",
       "  display: grid;\n",
       "  grid-template-columns: 125px auto;\n",
       "}\n",
       "\n",
       ".xr-attrs dt,\n",
       ".xr-attrs dd {\n",
       "  padding: 0;\n",
       "  margin: 0;\n",
       "  float: left;\n",
       "  padding-right: 10px;\n",
       "  width: auto;\n",
       "}\n",
       "\n",
       ".xr-attrs dt {\n",
       "  font-weight: normal;\n",
       "  grid-column: 1;\n",
       "}\n",
       "\n",
       ".xr-attrs dt:hover span {\n",
       "  display: inline-block;\n",
       "  background: var(--xr-background-color);\n",
       "  padding-right: 10px;\n",
       "}\n",
       "\n",
       ".xr-attrs dd {\n",
       "  grid-column: 2;\n",
       "  white-space: pre-wrap;\n",
       "  word-break: break-all;\n",
       "}\n",
       "\n",
       ".xr-icon-database,\n",
       ".xr-icon-file-text2,\n",
       ".xr-no-icon {\n",
       "  display: inline-block;\n",
       "  vertical-align: middle;\n",
       "  width: 1em;\n",
       "  height: 1.5em !important;\n",
       "  stroke-width: 0;\n",
       "  stroke: currentColor;\n",
       "  fill: currentColor;\n",
       "}\n",
       "</style><pre class='xr-text-repr-fallback'>&lt;TimeSeries (DataArray) (Datetime: 8671, component: 4, sample: 1)&gt;\n",
       "array([[[0.97491097],\n",
       "        [0.93221034],\n",
       "        [0.9818257 ],\n",
       "        [0.98108512]],\n",
       "\n",
       "       [[0.9911013 ],\n",
       "        [0.93115344],\n",
       "        [0.97717842],\n",
       "        [0.99859894]],\n",
       "\n",
       "       [[0.98843427],\n",
       "        [0.93352601],\n",
       "        [0.98257281],\n",
       "        [0.99586242]],\n",
       "\n",
       "       ...,\n",
       "\n",
       "       [[0.03861207],\n",
       "        [0.05658   ],\n",
       "        [0.19352693],\n",
       "        [0.01083423]],\n",
       "\n",
       "       [[0.05088969],\n",
       "        [0.06238251],\n",
       "        [0.19867212],\n",
       "        [0.01263989]],\n",
       "\n",
       "       [[0.06939491],\n",
       "        [0.07346278],\n",
       "        [0.21236514],\n",
       "        [0.02448987]]])\n",
       "Coordinates:\n",
       "  * Datetime   (Datetime) datetime64[ns] 2022-01-03T09:30:00 ... 2022-12-30T1...\n",
       "  * component  (component) object &#x27;AAPL&#x27; &#x27;GOOGL&#x27; &#x27;MSFT&#x27; &#x27;AMZN&#x27;\n",
       "Dimensions without coordinates: sample\n",
       "Attributes:\n",
       "    static_covariates:  None\n",
       "    hierarchy:          None</pre><div class='xr-wrap' style='display:none'><div class='xr-header'><div class='xr-obj-type'>TimeSeries (DataArray)</div><div class='xr-array-name'></div><ul class='xr-dim-list'><li><span class='xr-has-index'>Datetime</span>: 8671</li><li><span class='xr-has-index'>component</span>: 4</li><li><span>sample</span>: 1</li></ul></div><ul class='xr-sections'><li class='xr-section-item'><div class='xr-array-wrap'><input id='section-397671c2-5684-4f2d-8076-840fed72a0e7' class='xr-array-in' type='checkbox' checked><label for='section-397671c2-5684-4f2d-8076-840fed72a0e7' title='Show/hide data repr'><svg class='icon xr-icon-database'><use xlink:href='#icon-database'></use></svg></label><div class='xr-array-preview xr-preview'><span>0.9749 0.9322 0.9818 0.9811 0.9911 ... 0.06939 0.07346 0.2124 0.02449</span></div><div class='xr-array-data'><pre>array([[[0.97491097],\n",
       "        [0.93221034],\n",
       "        [0.9818257 ],\n",
       "        [0.98108512]],\n",
       "\n",
       "       [[0.9911013 ],\n",
       "        [0.93115344],\n",
       "        [0.97717842],\n",
       "        [0.99859894]],\n",
       "\n",
       "       [[0.98843427],\n",
       "        [0.93352601],\n",
       "        [0.98257281],\n",
       "        [0.99586242]],\n",
       "\n",
       "       ...,\n",
       "\n",
       "       [[0.03861207],\n",
       "        [0.05658   ],\n",
       "        [0.19352693],\n",
       "        [0.01083423]],\n",
       "\n",
       "       [[0.05088969],\n",
       "        [0.06238251],\n",
       "        [0.19867212],\n",
       "        [0.01263989]],\n",
       "\n",
       "       [[0.06939491],\n",
       "        [0.07346278],\n",
       "        [0.21236514],\n",
       "        [0.02448987]]])</pre></div></div></li><li class='xr-section-item'><input id='section-d236da8c-64b4-4e96-8621-d8e4a96d55a3' class='xr-section-summary-in' type='checkbox'  checked><label for='section-d236da8c-64b4-4e96-8621-d8e4a96d55a3' class='xr-section-summary' >Coordinates: <span>(2)</span></label><div class='xr-section-inline-details'></div><div class='xr-section-details'><ul class='xr-var-list'><li class='xr-var-item'><div class='xr-var-name'><span class='xr-has-index'>Datetime</span></div><div class='xr-var-dims'>(Datetime)</div><div class='xr-var-dtype'>datetime64[ns]</div><div class='xr-var-preview xr-preview'>2022-01-03T09:30:00 ... 2022-12-...</div><input id='attrs-3edc5453-2919-419f-8e5a-3d523cde6725' class='xr-var-attrs-in' type='checkbox' disabled><label for='attrs-3edc5453-2919-419f-8e5a-3d523cde6725' title='Show/Hide attributes'><svg class='icon xr-icon-file-text2'><use xlink:href='#icon-file-text2'></use></svg></label><input id='data-bbaaab0f-51d6-4591-b8f1-5800f8362455' class='xr-var-data-in' type='checkbox'><label for='data-bbaaab0f-51d6-4591-b8f1-5800f8362455' title='Show/Hide data repr'><svg class='icon xr-icon-database'><use xlink:href='#icon-database'></use></svg></label><div class='xr-var-attrs'><dl class='xr-attrs'></dl></div><div class='xr-var-data'><pre>array([&#x27;2022-01-03T09:30:00.000000000&#x27;, &#x27;2022-01-03T10:30:00.000000000&#x27;,\n",
       "       &#x27;2022-01-03T11:30:00.000000000&#x27;, ..., &#x27;2022-12-30T13:30:00.000000000&#x27;,\n",
       "       &#x27;2022-12-30T14:30:00.000000000&#x27;, &#x27;2022-12-30T15:30:00.000000000&#x27;],\n",
       "      dtype=&#x27;datetime64[ns]&#x27;)</pre></div></li><li class='xr-var-item'><div class='xr-var-name'><span class='xr-has-index'>component</span></div><div class='xr-var-dims'>(component)</div><div class='xr-var-dtype'>object</div><div class='xr-var-preview xr-preview'>&#x27;AAPL&#x27; &#x27;GOOGL&#x27; &#x27;MSFT&#x27; &#x27;AMZN&#x27;</div><input id='attrs-13ce52a9-9dc9-4493-98bd-ce53649feac4' class='xr-var-attrs-in' type='checkbox' disabled><label for='attrs-13ce52a9-9dc9-4493-98bd-ce53649feac4' title='Show/Hide attributes'><svg class='icon xr-icon-file-text2'><use xlink:href='#icon-file-text2'></use></svg></label><input id='data-fe1ce9f0-df3c-4eba-b403-d066568dd09a' class='xr-var-data-in' type='checkbox'><label for='data-fe1ce9f0-df3c-4eba-b403-d066568dd09a' title='Show/Hide data repr'><svg class='icon xr-icon-database'><use xlink:href='#icon-database'></use></svg></label><div class='xr-var-attrs'><dl class='xr-attrs'></dl></div><div class='xr-var-data'><pre>array([&#x27;AAPL&#x27;, &#x27;GOOGL&#x27;, &#x27;MSFT&#x27;, &#x27;AMZN&#x27;], dtype=object)</pre></div></li></ul></div></li><li class='xr-section-item'><input id='section-360ba94e-fb57-44d2-816a-8b16cbf3044e' class='xr-section-summary-in' type='checkbox'  ><label for='section-360ba94e-fb57-44d2-816a-8b16cbf3044e' class='xr-section-summary' >Indexes: <span>(2)</span></label><div class='xr-section-inline-details'></div><div class='xr-section-details'><ul class='xr-var-list'><li class='xr-var-item'><div class='xr-index-name'><div>Datetime</div></div><div class='xr-index-preview'>PandasIndex</div><div></div><input id='index-7e1f7d07-18ab-4d9d-b32f-b5eb78f25b42' class='xr-index-data-in' type='checkbox'/><label for='index-7e1f7d07-18ab-4d9d-b32f-b5eb78f25b42' title='Show/Hide index repr'><svg class='icon xr-icon-database'><use xlink:href='#icon-database'></use></svg></label><div class='xr-index-data'><pre>PandasIndex(DatetimeIndex([&#x27;2022-01-03 09:30:00&#x27;, &#x27;2022-01-03 10:30:00&#x27;,\n",
       "               &#x27;2022-01-03 11:30:00&#x27;, &#x27;2022-01-03 12:30:00&#x27;,\n",
       "               &#x27;2022-01-03 13:30:00&#x27;, &#x27;2022-01-03 14:30:00&#x27;,\n",
       "               &#x27;2022-01-03 15:30:00&#x27;, &#x27;2022-01-03 16:30:00&#x27;,\n",
       "               &#x27;2022-01-03 17:30:00&#x27;, &#x27;2022-01-03 18:30:00&#x27;,\n",
       "               ...\n",
       "               &#x27;2022-12-30 06:30:00&#x27;, &#x27;2022-12-30 07:30:00&#x27;,\n",
       "               &#x27;2022-12-30 08:30:00&#x27;, &#x27;2022-12-30 09:30:00&#x27;,\n",
       "               &#x27;2022-12-30 10:30:00&#x27;, &#x27;2022-12-30 11:30:00&#x27;,\n",
       "               &#x27;2022-12-30 12:30:00&#x27;, &#x27;2022-12-30 13:30:00&#x27;,\n",
       "               &#x27;2022-12-30 14:30:00&#x27;, &#x27;2022-12-30 15:30:00&#x27;],\n",
       "              dtype=&#x27;datetime64[ns]&#x27;, name=&#x27;Datetime&#x27;, length=8671, freq=&#x27;H&#x27;))</pre></div></li><li class='xr-var-item'><div class='xr-index-name'><div>component</div></div><div class='xr-index-preview'>PandasIndex</div><div></div><input id='index-9de0117a-4d86-4543-9097-ea2d370136db' class='xr-index-data-in' type='checkbox'/><label for='index-9de0117a-4d86-4543-9097-ea2d370136db' title='Show/Hide index repr'><svg class='icon xr-icon-database'><use xlink:href='#icon-database'></use></svg></label><div class='xr-index-data'><pre>PandasIndex(Index([&#x27;AAPL&#x27;, &#x27;GOOGL&#x27;, &#x27;MSFT&#x27;, &#x27;AMZN&#x27;], dtype=&#x27;object&#x27;, name=&#x27;component&#x27;))</pre></div></li></ul></div></li><li class='xr-section-item'><input id='section-8d31af82-cb38-46e6-8866-318e3b426bbf' class='xr-section-summary-in' type='checkbox'  checked><label for='section-8d31af82-cb38-46e6-8866-318e3b426bbf' class='xr-section-summary' >Attributes: <span>(2)</span></label><div class='xr-section-inline-details'></div><div class='xr-section-details'><dl class='xr-attrs'><dt><span>static_covariates :</span></dt><dd>None</dd><dt><span>hierarchy :</span></dt><dd>None</dd></dl></div></li></ul></div></div>"
      ],
      "text/plain": [
       "<TimeSeries (DataArray) (Datetime: 8671, component: 4, sample: 1)>\n",
       "array([[[0.97491097],\n",
       "        [0.93221034],\n",
       "        [0.9818257 ],\n",
       "        [0.98108512]],\n",
       "\n",
       "       [[0.9911013 ],\n",
       "        [0.93115344],\n",
       "        [0.97717842],\n",
       "        [0.99859894]],\n",
       "\n",
       "       [[0.98843427],\n",
       "        [0.93352601],\n",
       "        [0.98257281],\n",
       "        [0.99586242]],\n",
       "\n",
       "       ...,\n",
       "\n",
       "       [[0.03861207],\n",
       "        [0.05658   ],\n",
       "        [0.19352693],\n",
       "        [0.01083423]],\n",
       "\n",
       "       [[0.05088969],\n",
       "        [0.06238251],\n",
       "        [0.19867212],\n",
       "        [0.01263989]],\n",
       "\n",
       "       [[0.06939491],\n",
       "        [0.07346278],\n",
       "        [0.21236514],\n",
       "        [0.02448987]]])\n",
       "Coordinates:\n",
       "  * Datetime   (Datetime) datetime64[ns] 2022-01-03T09:30:00 ... 2022-12-30T1...\n",
       "  * component  (component) object 'AAPL' 'GOOGL' 'MSFT' 'AMZN'\n",
       "Dimensions without coordinates: sample\n",
       "Attributes:\n",
       "    static_covariates:  None\n",
       "    hierarchy:          None"
      ]
     },
     "execution_count": 11,
     "metadata": {},
     "output_type": "execute_result"
    }
   ],
   "source": [
    "from darts.utils.missing_values import fill_missing_values\n",
    "scaled_ts = fill_missing_values(scaled_ts)\n",
    "scaled_ts\n"
   ]
  },
  {
   "cell_type": "markdown",
   "id": "4ab9dc68-030d-4cd3-85de-ab6b7e1e0cf3",
   "metadata": {},
   "source": [
    "### __*Train Test Split*__"
   ]
  },
  {
   "cell_type": "code",
   "execution_count": 12,
   "id": "32b813e9-0aa5-4c71-8048-f368c1d8ea94",
   "metadata": {},
   "outputs": [
    {
     "data": {
      "text/plain": [
       "<AxesSubplot:xlabel='Datetime'>"
      ]
     },
     "execution_count": 12,
     "metadata": {},
     "output_type": "execute_result"
    },
    {
     "data": {
      "image/png": "[encoded data removed]",
      "text/plain": [
       "<Figure size 640x480 with 1 Axes>"
      ]
     },
     "metadata": {},
     "output_type": "display_data"
    }
   ],
   "source": [
    "train, val = (scaled_ts).split_before(0.8)# (we standardize by dividing by 100 since Google Trends data tops out at 100 by default!)\n",
    "train.plot(label=\"training\")\n",
    "val.plot(label=\"validation\")\n"
   ]
  },
  {
   "cell_type": "markdown",
   "id": "a8cabea9-a5d7-4de4-886d-f73683c36d30",
   "metadata": {},
   "source": [
    "### __*Advanced multicovariate RNN training*__"
   ]
  },
  {
   "cell_type": "markdown",
   "id": "6dea2b00-85da-4eb7-84f7-30e580c0a740",
   "metadata": {},
   "source": [
    "### __*Setup Earlystopping and the train on GPU*__"
   ]
  },
  {
   "cell_type": "code",
   "execution_count": 13,
   "id": "55af022a-514e-4324-811a-c1434c6d9076",
   "metadata": {},
   "outputs": [],
   "source": [
    "from pytorch_lightning.callbacks.early_stopping import EarlyStopping\n",
    "\n",
    "# stop training when validation loss does not decrease more than 0.05 (`min_delta`) over\n",
    "# a period of 5 epochs (`patience`)\n",
    "my_stopper = EarlyStopping(\n",
    "    monitor=\"val_loss\",\n",
    "    patience=30,\n",
    "    min_delta=0.005,\n",
    "    mode='min',\n",
    ")\n",
    "\n",
    "pl_trainer_kwargs={\"callbacks\": [my_stopper],\n",
    "                   \"accelerator\": \"gpu\",\n",
    "                   \"devices\": [0]}\n"
   ]
  },
  {
   "cell_type": "markdown",
   "id": "89e5f5f6-3422-4007-a550-cfe7e7cf59e8",
   "metadata": {},
   "source": [
    "### __*Instanciate our model*__"
   ]
  },
  {
   "cell_type": "code",
   "execution_count": 14,
   "id": "7edd5aba-9c51-4cfb-a324-aa55bc738a85",
   "metadata": {},
   "outputs": [],
   "source": [
    "# predict 15 days considering the latest 45 days\n",
    "\n",
    "model_pastcov = BlockRNNModel(\n",
    "    model=\"LSTM\",\n",
    "    input_chunk_length=45,\n",
    "    output_chunk_length=15,\n",
    "    dropout=0.2,\n",
    "    torch_metrics=SymmetricMeanAbsolutePercentageError(),\n",
    "    n_epochs=200,\n",
    "    pl_trainer_kwargs = pl_trainer_kwargs,\n",
    "    random_state=0,\n",
    ")\n"
   ]
  },
  {
   "cell_type": "code",
   "execution_count": 15,
   "id": "eaa12649-764a-495e-afca-6d78ce98d8db",
   "metadata": {
    "tags": []
   },
   "outputs": [
    {
     "data": {
      "text/html": [
       "<div><svg style=\"position: absolute; width: 0; height: 0; overflow: hidden\">\n",
       "<defs>\n",
       "<symbol id=\"icon-database\" viewBox=\"0 0 32 32\">\n",
       "<path d=\"M16 0c-8.837 0-16 2.239-16 5v4c0 2.761 7.163 5 16 5s16-2.239 16-5v-4c0-2.761-7.163-5-16-5z\"></path>\n",
       "<path d=\"M16 17c-8.837 0-16-2.239-16-5v6c0 2.761 7.163 5 16 5s16-2.239 16-5v-6c0 2.761-7.163 5-16 5z\"></path>\n",
       "<path d=\"M16 26c-8.837 0-16-2.239-16-5v6c0 2.761 7.163 5 16 5s16-2.239 16-5v-6c0 2.761-7.163 5-16 5z\"></path>\n",
       "</symbol>\n",
       "<symbol id=\"icon-file-text2\" viewBox=\"0 0 32 32\">\n",
       "<path d=\"M28.681 7.159c-0.694-0.947-1.662-2.053-2.724-3.116s-2.169-2.030-3.116-2.724c-1.612-1.182-2.393-1.319-2.841-1.319h-15.5c-1.378 0-2.5 1.121-2.5 2.5v27c0 1.378 1.122 2.5 2.5 2.5h23c1.378 0 2.5-1.122 2.5-2.5v-19.5c0-0.448-0.137-1.23-1.319-2.841zM24.543 5.457c0.959 0.959 1.712 1.825 2.268 2.543h-4.811v-4.811c0.718 0.556 1.584 1.309 2.543 2.268zM28 29.5c0 0.271-0.229 0.5-0.5 0.5h-23c-0.271 0-0.5-0.229-0.5-0.5v-27c0-0.271 0.229-0.5 0.5-0.5 0 0 15.499-0 15.5 0v7c0 0.552 0.448 1 1 1h7v19.5z\"></path>\n",
       "<path d=\"M23 26h-14c-0.552 0-1-0.448-1-1s0.448-1 1-1h14c0.552 0 1 0.448 1 1s-0.448 1-1 1z\"></path>\n",
       "<path d=\"M23 22h-14c-0.552 0-1-0.448-1-1s0.448-1 1-1h14c0.552 0 1 0.448 1 1s-0.448 1-1 1z\"></path>\n",
       "<path d=\"M23 18h-14c-0.552 0-1-0.448-1-1s0.448-1 1-1h14c0.552 0 1 0.448 1 1s-0.448 1-1 1z\"></path>\n",
       "</symbol>\n",
       "</defs>\n",
       "</svg>\n",
       "<style>/* CSS stylesheet for displaying xarray objects in jupyterlab.\n",
       " *\n",
       " */\n",
       "\n",
       ":root {\n",
       "  --xr-font-color0: var(--jp-content-font-color0, rgba(0, 0, 0, 1));\n",
       "  --xr-font-color2: var(--jp-content-font-color2, rgba(0, 0, 0, 0.54));\n",
       "  --xr-font-color3: var(--jp-content-font-color3, rgba(0, 0, 0, 0.38));\n",
       "  --xr-border-color: var(--jp-border-color2, #e0e0e0);\n",
       "  --xr-disabled-color: var(--jp-layout-color3, #bdbdbd);\n",
       "  --xr-background-color: var(--jp-layout-color0, white);\n",
       "  --xr-background-color-row-even: var(--jp-layout-color1, white);\n",
       "  --xr-background-color-row-odd: var(--jp-layout-color2, #eeeeee);\n",
       "}\n",
       "\n",
       "html[theme=dark],\n",
       "body[data-theme=dark],\n",
       "body.vscode-dark {\n",
       "  --xr-font-color0: rgba(255, 255, 255, 1);\n",
       "  --xr-font-color2: rgba(255, 255, 255, 0.54);\n",
       "  --xr-font-color3: rgba(255, 255, 255, 0.38);\n",
       "  --xr-border-color: #1F1F1F;\n",
       "  --xr-disabled-color: #515151;\n",
       "  --xr-background-color: #111111;\n",
       "  --xr-background-color-row-even: #111111;\n",
       "  --xr-background-color-row-odd: #313131;\n",
       "}\n",
       "\n",
       ".xr-wrap {\n",
       "  display: block !important;\n",
       "  min-width: 300px;\n",
       "  max-width: 700px;\n",
       "}\n",
       "\n",
       ".xr-text-repr-fallback {\n",
       "  /* fallback to plain text repr when CSS is not injected (untrusted notebook) */\n",
       "  display: none;\n",
       "}\n",
       "\n",
       ".xr-header {\n",
       "  padding-top: 6px;\n",
       "  padding-bottom: 6px;\n",
       "  margin-bottom: 4px;\n",
       "  border-bottom: solid 1px var(--xr-border-color);\n",
       "}\n",
       "\n",
       ".xr-header > div,\n",
       ".xr-header > ul {\n",
       "  display: inline;\n",
       "  margin-top: 0;\n",
       "  margin-bottom: 0;\n",
       "}\n",
       "\n",
       ".xr-obj-type,\n",
       ".xr-array-name {\n",
       "  margin-left: 2px;\n",
       "  margin-right: 10px;\n",
       "}\n",
       "\n",
       ".xr-obj-type {\n",
       "  color: var(--xr-font-color2);\n",
       "}\n",
       "\n",
       ".xr-sections {\n",
       "  padding-left: 0 !important;\n",
       "  display: grid;\n",
       "  grid-template-columns: 150px auto auto 1fr 20px 20px;\n",
       "}\n",
       "\n",
       ".xr-section-item {\n",
       "  display: contents;\n",
       "}\n",
       "\n",
       ".xr-section-item input {\n",
       "  display: none;\n",
       "}\n",
       "\n",
       ".xr-section-item input + label {\n",
       "  color: var(--xr-disabled-color);\n",
       "}\n",
       "\n",
       ".xr-section-item input:enabled + label {\n",
       "  cursor: pointer;\n",
       "  color: var(--xr-font-color2);\n",
       "}\n",
       "\n",
       ".xr-section-item input:enabled + label:hover {\n",
       "  color: var(--xr-font-color0);\n",
       "}\n",
       "\n",
       ".xr-section-summary {\n",
       "  grid-column: 1;\n",
       "  color: var(--xr-font-color2);\n",
       "  font-weight: 500;\n",
       "}\n",
       "\n",
       ".xr-section-summary > span {\n",
       "  display: inline-block;\n",
       "  padding-left: 0.5em;\n",
       "}\n",
       "\n",
       ".xr-section-summary-in:disabled + label {\n",
       "  color: var(--xr-font-color2);\n",
       "}\n",
       "\n",
       ".xr-section-summary-in + label:before {\n",
       "  display: inline-block;\n",
       "  content: '►';\n",
       "  font-size: 11px;\n",
       "  width: 15px;\n",
       "  text-align: center;\n",
       "}\n",
       "\n",
       ".xr-section-summary-in:disabled + label:before {\n",
       "  color: var(--xr-disabled-color);\n",
       "}\n",
       "\n",
       ".xr-section-summary-in:checked + label:before {\n",
       "  content: '▼';\n",
       "}\n",
       "\n",
       ".xr-section-summary-in:checked + label > span {\n",
       "  display: none;\n",
       "}\n",
       "\n",
       ".xr-section-summary,\n",
       ".xr-section-inline-details {\n",
       "  padding-top: 4px;\n",
       "  padding-bottom: 4px;\n",
       "}\n",
       "\n",
       ".xr-section-inline-details {\n",
       "  grid-column: 2 / -1;\n",
       "}\n",
       "\n",
       ".xr-section-details {\n",
       "  display: none;\n",
       "  grid-column: 1 / -1;\n",
       "  margin-bottom: 5px;\n",
       "}\n",
       "\n",
       ".xr-section-summary-in:checked ~ .xr-section-details {\n",
       "  display: contents;\n",
       "}\n",
       "\n",
       ".xr-array-wrap {\n",
       "  grid-column: 1 / -1;\n",
       "  display: grid;\n",
       "  grid-template-columns: 20px auto;\n",
       "}\n",
       "\n",
       ".xr-array-wrap > label {\n",
       "  grid-column: 1;\n",
       "  vertical-align: top;\n",
       "}\n",
       "\n",
       ".xr-preview {\n",
       "  color: var(--xr-font-color3);\n",
       "}\n",
       "\n",
       ".xr-array-preview,\n",
       ".xr-array-data {\n",
       "  padding: 0 5px !important;\n",
       "  grid-column: 2;\n",
       "}\n",
       "\n",
       ".xr-array-data,\n",
       ".xr-array-in:checked ~ .xr-array-preview {\n",
       "  display: none;\n",
       "}\n",
       "\n",
       ".xr-array-in:checked ~ .xr-array-data,\n",
       ".xr-array-preview {\n",
       "  display: inline-block;\n",
       "}\n",
       "\n",
       ".xr-dim-list {\n",
       "  display: inline-block !important;\n",
       "  list-style: none;\n",
       "  padding: 0 !important;\n",
       "  margin: 0;\n",
       "}\n",
       "\n",
       ".xr-dim-list li {\n",
       "  display: inline-block;\n",
       "  padding: 0;\n",
       "  margin: 0;\n",
       "}\n",
       "\n",
       ".xr-dim-list:before {\n",
       "  content: '(';\n",
       "}\n",
       "\n",
       ".xr-dim-list:after {\n",
       "  content: ')';\n",
       "}\n",
       "\n",
       ".xr-dim-list li:not(:last-child):after {\n",
       "  content: ',';\n",
       "  padding-right: 5px;\n",
       "}\n",
       "\n",
       ".xr-has-index {\n",
       "  font-weight: bold;\n",
       "}\n",
       "\n",
       ".xr-var-list,\n",
       ".xr-var-item {\n",
       "  display: contents;\n",
       "}\n",
       "\n",
       ".xr-var-item > div,\n",
       ".xr-var-item label,\n",
       ".xr-var-item > .xr-var-name span {\n",
       "  background-color: var(--xr-background-color-row-even);\n",
       "  margin-bottom: 0;\n",
       "}\n",
       "\n",
       ".xr-var-item > .xr-var-name:hover span {\n",
       "  padding-right: 5px;\n",
       "}\n",
       "\n",
       ".xr-var-list > li:nth-child(odd) > div,\n",
       ".xr-var-list > li:nth-child(odd) > label,\n",
       ".xr-var-list > li:nth-child(odd) > .xr-var-name span {\n",
       "  background-color: var(--xr-background-color-row-odd);\n",
       "}\n",
       "\n",
       ".xr-var-name {\n",
       "  grid-column: 1;\n",
       "}\n",
       "\n",
       ".xr-var-dims {\n",
       "  grid-column: 2;\n",
       "}\n",
       "\n",
       ".xr-var-dtype {\n",
       "  grid-column: 3;\n",
       "  text-align: right;\n",
       "  color: var(--xr-font-color2);\n",
       "}\n",
       "\n",
       ".xr-var-preview {\n",
       "  grid-column: 4;\n",
       "}\n",
       "\n",
       ".xr-index-preview {\n",
       "  grid-column: 2 / 5;\n",
       "  color: var(--xr-font-color2);\n",
       "}\n",
       "\n",
       ".xr-var-name,\n",
       ".xr-var-dims,\n",
       ".xr-var-dtype,\n",
       ".xr-preview,\n",
       ".xr-attrs dt {\n",
       "  white-space: nowrap;\n",
       "  overflow: hidden;\n",
       "  text-overflow: ellipsis;\n",
       "  padding-right: 10px;\n",
       "}\n",
       "\n",
       ".xr-var-name:hover,\n",
       ".xr-var-dims:hover,\n",
       ".xr-var-dtype:hover,\n",
       ".xr-attrs dt:hover {\n",
       "  overflow: visible;\n",
       "  width: auto;\n",
       "  z-index: 1;\n",
       "}\n",
       "\n",
       ".xr-var-attrs,\n",
       ".xr-var-data,\n",
       ".xr-index-data {\n",
       "  display: none;\n",
       "  background-color: var(--xr-background-color) !important;\n",
       "  padding-bottom: 5px !important;\n",
       "}\n",
       "\n",
       ".xr-var-attrs-in:checked ~ .xr-var-attrs,\n",
       ".xr-var-data-in:checked ~ .xr-var-data,\n",
       ".xr-index-data-in:checked ~ .xr-index-data {\n",
       "  display: block;\n",
       "}\n",
       "\n",
       ".xr-var-data > table {\n",
       "  float: right;\n",
       "}\n",
       "\n",
       ".xr-var-name span,\n",
       ".xr-var-data,\n",
       ".xr-index-name div,\n",
       ".xr-index-data,\n",
       ".xr-attrs {\n",
       "  padding-left: 25px !important;\n",
       "}\n",
       "\n",
       ".xr-attrs,\n",
       ".xr-var-attrs,\n",
       ".xr-var-data,\n",
       ".xr-index-data {\n",
       "  grid-column: 1 / -1;\n",
       "}\n",
       "\n",
       "dl.xr-attrs {\n",
       "  padding: 0;\n",
       "  margin: 0;\n",
       "  display: grid;\n",
       "  grid-template-columns: 125px auto;\n",
       "}\n",
       "\n",
       ".xr-attrs dt,\n",
       ".xr-attrs dd {\n",
       "  padding: 0;\n",
       "  margin: 0;\n",
       "  float: left;\n",
       "  padding-right: 10px;\n",
       "  width: auto;\n",
       "}\n",
       "\n",
       ".xr-attrs dt {\n",
       "  font-weight: normal;\n",
       "  grid-column: 1;\n",
       "}\n",
       "\n",
       ".xr-attrs dt:hover span {\n",
       "  display: inline-block;\n",
       "  background: var(--xr-background-color);\n",
       "  padding-right: 10px;\n",
       "}\n",
       "\n",
       ".xr-attrs dd {\n",
       "  grid-column: 2;\n",
       "  white-space: pre-wrap;\n",
       "  word-break: break-all;\n",
       "}\n",
       "\n",
       ".xr-icon-database,\n",
       ".xr-icon-file-text2,\n",
       ".xr-no-icon {\n",
       "  display: inline-block;\n",
       "  vertical-align: middle;\n",
       "  width: 1em;\n",
       "  height: 1.5em !important;\n",
       "  stroke-width: 0;\n",
       "  stroke: currentColor;\n",
       "  fill: currentColor;\n",
       "}\n",
       "</style><pre class='xr-text-repr-fallback'>&lt;TimeSeries (DataArray) (Datetime: 6936, component: 1, sample: 1)&gt;\n",
       "array([[[0.97491097]],\n",
       "\n",
       "       [[0.9911013 ]],\n",
       "\n",
       "       [[0.98843427]],\n",
       "\n",
       "       ...,\n",
       "\n",
       "       [[0.33064051]],\n",
       "\n",
       "       [[0.33163933]],\n",
       "\n",
       "       [[0.33263815]]])\n",
       "Coordinates:\n",
       "  * Datetime   (Datetime) datetime64[ns] 2022-01-03T09:30:00 ... 2022-10-19T0...\n",
       "  * component  (component) object &#x27;AAPL&#x27;\n",
       "Dimensions without coordinates: sample\n",
       "Attributes:\n",
       "    static_covariates:  None\n",
       "    hierarchy:          None</pre><div class='xr-wrap' style='display:none'><div class='xr-header'><div class='xr-obj-type'>TimeSeries (DataArray)</div><div class='xr-array-name'></div><ul class='xr-dim-list'><li><span class='xr-has-index'>Datetime</span>: 6936</li><li><span class='xr-has-index'>component</span>: 1</li><li><span>sample</span>: 1</li></ul></div><ul class='xr-sections'><li class='xr-section-item'><div class='xr-array-wrap'><input id='section-8b08f144-fbe3-41a2-ab76-c9b20ea5343d' class='xr-array-in' type='checkbox' checked><label for='section-8b08f144-fbe3-41a2-ab76-c9b20ea5343d' title='Show/hide data repr'><svg class='icon xr-icon-database'><use xlink:href='#icon-database'></use></svg></label><div class='xr-array-preview xr-preview'><span>0.9749 0.9911 0.9884 0.9996 0.9931 ... 0.3296 0.3306 0.3316 0.3326</span></div><div class='xr-array-data'><pre>array([[[0.97491097]],\n",
       "\n",
       "       [[0.9911013 ]],\n",
       "\n",
       "       [[0.98843427]],\n",
       "\n",
       "       ...,\n",
       "\n",
       "       [[0.33064051]],\n",
       "\n",
       "       [[0.33163933]],\n",
       "\n",
       "       [[0.33263815]]])</pre></div></div></li><li class='xr-section-item'><input id='section-f1eb77eb-51a6-403b-b0c4-3981adcf0698' class='xr-section-summary-in' type='checkbox'  checked><label for='section-f1eb77eb-51a6-403b-b0c4-3981adcf0698' class='xr-section-summary' >Coordinates: <span>(2)</span></label><div class='xr-section-inline-details'></div><div class='xr-section-details'><ul class='xr-var-list'><li class='xr-var-item'><div class='xr-var-name'><span class='xr-has-index'>Datetime</span></div><div class='xr-var-dims'>(Datetime)</div><div class='xr-var-dtype'>datetime64[ns]</div><div class='xr-var-preview xr-preview'>2022-01-03T09:30:00 ... 2022-10-...</div><input id='attrs-f91ea8b6-24dd-41f9-ad0c-4850812d8582' class='xr-var-attrs-in' type='checkbox' disabled><label for='attrs-f91ea8b6-24dd-41f9-ad0c-4850812d8582' title='Show/Hide attributes'><svg class='icon xr-icon-file-text2'><use xlink:href='#icon-file-text2'></use></svg></label><input id='data-bc01a25e-690a-422d-a3ea-74b5866c7b67' class='xr-var-data-in' type='checkbox'><label for='data-bc01a25e-690a-422d-a3ea-74b5866c7b67' title='Show/Hide data repr'><svg class='icon xr-icon-database'><use xlink:href='#icon-database'></use></svg></label><div class='xr-var-attrs'><dl class='xr-attrs'></dl></div><div class='xr-var-data'><pre>array([&#x27;2022-01-03T09:30:00.000000000&#x27;, &#x27;2022-01-03T10:30:00.000000000&#x27;,\n",
       "       &#x27;2022-01-03T11:30:00.000000000&#x27;, ..., &#x27;2022-10-19T06:30:00.000000000&#x27;,\n",
       "       &#x27;2022-10-19T07:30:00.000000000&#x27;, &#x27;2022-10-19T08:30:00.000000000&#x27;],\n",
       "      dtype=&#x27;datetime64[ns]&#x27;)</pre></div></li><li class='xr-var-item'><div class='xr-var-name'><span class='xr-has-index'>component</span></div><div class='xr-var-dims'>(component)</div><div class='xr-var-dtype'>object</div><div class='xr-var-preview xr-preview'>&#x27;AAPL&#x27;</div><input id='attrs-31756088-dee6-4aa0-af3d-fcba086ca774' class='xr-var-attrs-in' type='checkbox' disabled><label for='attrs-31756088-dee6-4aa0-af3d-fcba086ca774' title='Show/Hide attributes'><svg class='icon xr-icon-file-text2'><use xlink:href='#icon-file-text2'></use></svg></label><input id='data-2565c1e9-03df-4699-80e8-00afe1bbcaf5' class='xr-var-data-in' type='checkbox'><label for='data-2565c1e9-03df-4699-80e8-00afe1bbcaf5' title='Show/Hide data repr'><svg class='icon xr-icon-database'><use xlink:href='#icon-database'></use></svg></label><div class='xr-var-attrs'><dl class='xr-attrs'></dl></div><div class='xr-var-data'><pre>array([&#x27;AAPL&#x27;], dtype=object)</pre></div></li></ul></div></li><li class='xr-section-item'><input id='section-0e010a07-7441-4695-bc4d-24c896af9801' class='xr-section-summary-in' type='checkbox'  ><label for='section-0e010a07-7441-4695-bc4d-24c896af9801' class='xr-section-summary' >Indexes: <span>(2)</span></label><div class='xr-section-inline-details'></div><div class='xr-section-details'><ul class='xr-var-list'><li class='xr-var-item'><div class='xr-index-name'><div>Datetime</div></div><div class='xr-index-preview'>PandasIndex</div><div></div><input id='index-4e12c05d-9fa8-4ca0-8717-c7c85725158c' class='xr-index-data-in' type='checkbox'/><label for='index-4e12c05d-9fa8-4ca0-8717-c7c85725158c' title='Show/Hide index repr'><svg class='icon xr-icon-database'><use xlink:href='#icon-database'></use></svg></label><div class='xr-index-data'><pre>PandasIndex(DatetimeIndex([&#x27;2022-01-03 09:30:00&#x27;, &#x27;2022-01-03 10:30:00&#x27;,\n",
       "               &#x27;2022-01-03 11:30:00&#x27;, &#x27;2022-01-03 12:30:00&#x27;,\n",
       "               &#x27;2022-01-03 13:30:00&#x27;, &#x27;2022-01-03 14:30:00&#x27;,\n",
       "               &#x27;2022-01-03 15:30:00&#x27;, &#x27;2022-01-03 16:30:00&#x27;,\n",
       "               &#x27;2022-01-03 17:30:00&#x27;, &#x27;2022-01-03 18:30:00&#x27;,\n",
       "               ...\n",
       "               &#x27;2022-10-18 23:30:00&#x27;, &#x27;2022-10-19 00:30:00&#x27;,\n",
       "               &#x27;2022-10-19 01:30:00&#x27;, &#x27;2022-10-19 02:30:00&#x27;,\n",
       "               &#x27;2022-10-19 03:30:00&#x27;, &#x27;2022-10-19 04:30:00&#x27;,\n",
       "               &#x27;2022-10-19 05:30:00&#x27;, &#x27;2022-10-19 06:30:00&#x27;,\n",
       "               &#x27;2022-10-19 07:30:00&#x27;, &#x27;2022-10-19 08:30:00&#x27;],\n",
       "              dtype=&#x27;datetime64[ns]&#x27;, name=&#x27;Datetime&#x27;, length=6936, freq=&#x27;H&#x27;))</pre></div></li><li class='xr-var-item'><div class='xr-index-name'><div>component</div></div><div class='xr-index-preview'>PandasIndex</div><div></div><input id='index-8fd9b0de-b9bf-4def-a531-bd57b57238e3' class='xr-index-data-in' type='checkbox'/><label for='index-8fd9b0de-b9bf-4def-a531-bd57b57238e3' title='Show/Hide index repr'><svg class='icon xr-icon-database'><use xlink:href='#icon-database'></use></svg></label><div class='xr-index-data'><pre>PandasIndex(Index([&#x27;AAPL&#x27;], dtype=&#x27;object&#x27;, name=&#x27;component&#x27;))</pre></div></li></ul></div></li><li class='xr-section-item'><input id='section-55ec5123-354b-4304-9533-5220872f9f8f' class='xr-section-summary-in' type='checkbox'  checked><label for='section-55ec5123-354b-4304-9533-5220872f9f8f' class='xr-section-summary' >Attributes: <span>(2)</span></label><div class='xr-section-inline-details'></div><div class='xr-section-details'><dl class='xr-attrs'><dt><span>static_covariates :</span></dt><dd>None</dd><dt><span>hierarchy :</span></dt><dd>None</dd></dl></div></li></ul></div></div>"
      ],
      "text/plain": [
       "<TimeSeries (DataArray) (Datetime: 6936, component: 1, sample: 1)>\n",
       "array([[[0.97491097]],\n",
       "\n",
       "       [[0.9911013 ]],\n",
       "\n",
       "       [[0.98843427]],\n",
       "\n",
       "       ...,\n",
       "\n",
       "       [[0.33064051]],\n",
       "\n",
       "       [[0.33163933]],\n",
       "\n",
       "       [[0.33263815]]])\n",
       "Coordinates:\n",
       "  * Datetime   (Datetime) datetime64[ns] 2022-01-03T09:30:00 ... 2022-10-19T0...\n",
       "  * component  (component) object 'AAPL'\n",
       "Dimensions without coordinates: sample\n",
       "Attributes:\n",
       "    static_covariates:  None\n",
       "    hierarchy:          None"
      ]
     },
     "execution_count": 15,
     "metadata": {},
     "output_type": "execute_result"
    }
   ],
   "source": [
    "train['AAPL']\n"
   ]
  },
  {
   "cell_type": "markdown",
   "id": "bf1dcaa4-2f03-4990-8bf8-3c4a94c877db",
   "metadata": {},
   "source": [
    "### __*Train the model*__"
   ]
  },
  {
   "cell_type": "code",
   "execution_count": 16,
   "id": "b18303e5-bc82-4ca4-946f-a1527338201a",
   "metadata": {
    "tags": []
   },
   "outputs": [
    {
     "data": {
      "application/vnd.jupyter.widget-view+json": {
       "model_id": "",
       "version_major": 2,
       "version_minor": 0
      },
      "text/plain": [
       "Sanity Checking: 0it [00:00, ?it/s]"
      ]
     },
     "metadata": {},
     "output_type": "display_data"
    },
    {
     "data": {
      "application/vnd.jupyter.widget-view+json": {
       "model_id": "f5b9ccd08e4b479f85c1462b7897f1d7",
       "version_major": 2,
       "version_minor": 0
      },
      "text/plain": [
       "Training: 0it [00:00, ?it/s]"
      ]
     },
     "metadata": {},
     "output_type": "display_data"
    },
    {
     "data": {
      "application/vnd.jupyter.widget-view+json": {
       "model_id": "",
       "version_major": 2,
       "version_minor": 0
      },
      "text/plain": [
       "Validation: 0it [00:00, ?it/s]"
      ]
     },
     "metadata": {},
     "output_type": "display_data"
    },
    {
     "data": {
      "application/vnd.jupyter.widget-view+json": {
       "model_id": "",
       "version_major": 2,
       "version_minor": 0
      },
      "text/plain": [
       "Validation: 0it [00:00, ?it/s]"
      ]
     },
     "metadata": {},
     "output_type": "display_data"
    },
    {
     "data": {
      "application/vnd.jupyter.widget-view+json": {
       "model_id": "",
       "version_major": 2,
       "version_minor": 0
      },
      "text/plain": [
       "Validation: 0it [00:00, ?it/s]"
      ]
     },
     "metadata": {},
     "output_type": "display_data"
    },
    {
     "data": {
      "application/vnd.jupyter.widget-view+json": {
       "model_id": "",
       "version_major": 2,
       "version_minor": 0
      },
      "text/plain": [
       "Validation: 0it [00:00, ?it/s]"
      ]
     },
     "metadata": {},
     "output_type": "display_data"
    },
    {
     "data": {
      "application/vnd.jupyter.widget-view+json": {
       "model_id": "",
       "version_major": 2,
       "version_minor": 0
      },
      "text/plain": [
       "Validation: 0it [00:00, ?it/s]"
      ]
     },
     "metadata": {},
     "output_type": "display_data"
    },
    {
     "data": {
      "application/vnd.jupyter.widget-view+json": {
       "model_id": "",
       "version_major": 2,
       "version_minor": 0
      },
      "text/plain": [
       "Validation: 0it [00:00, ?it/s]"
      ]
     },
     "metadata": {},
     "output_type": "display_data"
    },
    {
     "data": {
      "application/vnd.jupyter.widget-view+json": {
       "model_id": "",
       "version_major": 2,
       "version_minor": 0
      },
      "text/plain": [
       "Validation: 0it [00:00, ?it/s]"
      ]
     },
     "metadata": {},
     "output_type": "display_data"
    },
    {
     "data": {
      "application/vnd.jupyter.widget-view+json": {
       "model_id": "",
       "version_major": 2,
       "version_minor": 0
      },
      "text/plain": [
       "Validation: 0it [00:00, ?it/s]"
      ]
     },
     "metadata": {},
     "output_type": "display_data"
    },
    {
     "data": {
      "application/vnd.jupyter.widget-view+json": {
       "model_id": "",
       "version_major": 2,
       "version_minor": 0
      },
      "text/plain": [
       "Validation: 0it [00:00, ?it/s]"
      ]
     },
     "metadata": {},
     "output_type": "display_data"
    },
    {
     "data": {
      "application/vnd.jupyter.widget-view+json": {
       "model_id": "",
       "version_major": 2,
       "version_minor": 0
      },
      "text/plain": [
       "Validation: 0it [00:00, ?it/s]"
      ]
     },
     "metadata": {},
     "output_type": "display_data"
    },
    {
     "data": {
      "application/vnd.jupyter.widget-view+json": {
       "model_id": "",
       "version_major": 2,
       "version_minor": 0
      },
      "text/plain": [
       "Validation: 0it [00:00, ?it/s]"
      ]
     },
     "metadata": {},
     "output_type": "display_data"
    },
    {
     "data": {
      "application/vnd.jupyter.widget-view+json": {
       "model_id": "",
       "version_major": 2,
       "version_minor": 0
      },
      "text/plain": [
       "Validation: 0it [00:00, ?it/s]"
      ]
     },
     "metadata": {},
     "output_type": "display_data"
    },
    {
     "data": {
      "application/vnd.jupyter.widget-view+json": {
       "model_id": "",
       "version_major": 2,
       "version_minor": 0
      },
      "text/plain": [
       "Validation: 0it [00:00, ?it/s]"
      ]
     },
     "metadata": {},
     "output_type": "display_data"
    },
    {
     "data": {
      "application/vnd.jupyter.widget-view+json": {
       "model_id": "",
       "version_major": 2,
       "version_minor": 0
      },
      "text/plain": [
       "Validation: 0it [00:00, ?it/s]"
      ]
     },
     "metadata": {},
     "output_type": "display_data"
    },
    {
     "data": {
      "application/vnd.jupyter.widget-view+json": {
       "model_id": "",
       "version_major": 2,
       "version_minor": 0
      },
      "text/plain": [
       "Validation: 0it [00:00, ?it/s]"
      ]
     },
     "metadata": {},
     "output_type": "display_data"
    },
    {
     "data": {
      "application/vnd.jupyter.widget-view+json": {
       "model_id": "",
       "version_major": 2,
       "version_minor": 0
      },
      "text/plain": [
       "Validation: 0it [00:00, ?it/s]"
      ]
     },
     "metadata": {},
     "output_type": "display_data"
    },
    {
     "data": {
      "application/vnd.jupyter.widget-view+json": {
       "model_id": "",
       "version_major": 2,
       "version_minor": 0
      },
      "text/plain": [
       "Validation: 0it [00:00, ?it/s]"
      ]
     },
     "metadata": {},
     "output_type": "display_data"
    },
    {
     "data": {
      "application/vnd.jupyter.widget-view+json": {
       "model_id": "",
       "version_major": 2,
       "version_minor": 0
      },
      "text/plain": [
       "Validation: 0it [00:00, ?it/s]"
      ]
     },
     "metadata": {},
     "output_type": "display_data"
    },
    {
     "data": {
      "application/vnd.jupyter.widget-view+json": {
       "model_id": "",
       "version_major": 2,
       "version_minor": 0
      },
      "text/plain": [
       "Validation: 0it [00:00, ?it/s]"
      ]
     },
     "metadata": {},
     "output_type": "display_data"
    },
    {
     "data": {
      "application/vnd.jupyter.widget-view+json": {
       "model_id": "",
       "version_major": 2,
       "version_minor": 0
      },
      "text/plain": [
       "Validation: 0it [00:00, ?it/s]"
      ]
     },
     "metadata": {},
     "output_type": "display_data"
    },
    {
     "data": {
      "application/vnd.jupyter.widget-view+json": {
       "model_id": "",
       "version_major": 2,
       "version_minor": 0
      },
      "text/plain": [
       "Validation: 0it [00:00, ?it/s]"
      ]
     },
     "metadata": {},
     "output_type": "display_data"
    },
    {
     "data": {
      "application/vnd.jupyter.widget-view+json": {
       "model_id": "",
       "version_major": 2,
       "version_minor": 0
      },
      "text/plain": [
       "Validation: 0it [00:00, ?it/s]"
      ]
     },
     "metadata": {},
     "output_type": "display_data"
    },
    {
     "data": {
      "application/vnd.jupyter.widget-view+json": {
       "model_id": "",
       "version_major": 2,
       "version_minor": 0
      },
      "text/plain": [
       "Validation: 0it [00:00, ?it/s]"
      ]
     },
     "metadata": {},
     "output_type": "display_data"
    },
    {
     "data": {
      "application/vnd.jupyter.widget-view+json": {
       "model_id": "",
       "version_major": 2,
       "version_minor": 0
      },
      "text/plain": [
       "Validation: 0it [00:00, ?it/s]"
      ]
     },
     "metadata": {},
     "output_type": "display_data"
    },
    {
     "data": {
      "application/vnd.jupyter.widget-view+json": {
       "model_id": "",
       "version_major": 2,
       "version_minor": 0
      },
      "text/plain": [
       "Validation: 0it [00:00, ?it/s]"
      ]
     },
     "metadata": {},
     "output_type": "display_data"
    },
    {
     "data": {
      "application/vnd.jupyter.widget-view+json": {
       "model_id": "",
       "version_major": 2,
       "version_minor": 0
      },
      "text/plain": [
       "Validation: 0it [00:00, ?it/s]"
      ]
     },
     "metadata": {},
     "output_type": "display_data"
    },
    {
     "data": {
      "application/vnd.jupyter.widget-view+json": {
       "model_id": "",
       "version_major": 2,
       "version_minor": 0
      },
      "text/plain": [
       "Validation: 0it [00:00, ?it/s]"
      ]
     },
     "metadata": {},
     "output_type": "display_data"
    },
    {
     "data": {
      "application/vnd.jupyter.widget-view+json": {
       "model_id": "",
       "version_major": 2,
       "version_minor": 0
      },
      "text/plain": [
       "Validation: 0it [00:00, ?it/s]"
      ]
     },
     "metadata": {},
     "output_type": "display_data"
    },
    {
     "data": {
      "application/vnd.jupyter.widget-view+json": {
       "model_id": "",
       "version_major": 2,
       "version_minor": 0
      },
      "text/plain": [
       "Validation: 0it [00:00, ?it/s]"
      ]
     },
     "metadata": {},
     "output_type": "display_data"
    },
    {
     "data": {
      "application/vnd.jupyter.widget-view+json": {
       "model_id": "",
       "version_major": 2,
       "version_minor": 0
      },
      "text/plain": [
       "Validation: 0it [00:00, ?it/s]"
      ]
     },
     "metadata": {},
     "output_type": "display_data"
    },
    {
     "data": {
      "application/vnd.jupyter.widget-view+json": {
       "model_id": "",
       "version_major": 2,
       "version_minor": 0
      },
      "text/plain": [
       "Validation: 0it [00:00, ?it/s]"
      ]
     },
     "metadata": {},
     "output_type": "display_data"
    },
    {
     "data": {
      "text/plain": [
       "BlockRNNModel(model=LSTM, hidden_dim=25, n_rnn_layers=1, hidden_fc_sizes=None, dropout=0.2, input_chunk_length=45, output_chunk_length=15, torch_metrics=SymmetricMeanAbsolutePercentageError(), n_epochs=200, pl_trainer_kwargs={'callbacks': [<pytorch_lightning.callbacks.early_stopping.EarlyStopping object at 0x7f81aa597790>], 'accelerator': 'gpu', 'devices': [0]}, random_state=0)"
      ]
     },
     "execution_count": 16,
     "metadata": {},
     "output_type": "execute_result"
    }
   ],
   "source": [
    "model_pastcov.fit(\n",
    "    series=[train['AAPL']],    # the target training data\n",
    "    past_covariates=train,     # the multi covariate features training data\n",
    "    val_series=[val['AAPL']],  # the target validation data\n",
    "    val_past_covariates=val,   # the multi covariate features validation data\n",
    "    verbose=True,\n",
    ")\n"
   ]
  },
  {
   "cell_type": "markdown",
   "id": "e93b803b-82d6-4bf7-a45a-7babf604f7a1",
   "metadata": {},
   "source": [
    "### __*Do a prediction*__"
   ]
  },
  {
   "cell_type": "code",
   "execution_count": 18,
   "id": "d52a509c-f9b9-410c-95f2-ff82ef44ff49",
   "metadata": {},
   "outputs": [
    {
     "data": {
      "application/vnd.jupyter.widget-view+json": {
       "model_id": "9fb8ca91a04849b9aa0f3a4fb76bf6c3",
       "version_major": 2,
       "version_minor": 0
      },
      "text/plain": [
       "Predicting: 0it [00:00, ?it/s]"
      ]
     },
     "metadata": {},
     "output_type": "display_data"
    },
    {
     "data": {
      "text/plain": [
       "<AxesSubplot:xlabel='Datetime'>"
      ]
     },
     "execution_count": 18,
     "metadata": {},
     "output_type": "execute_result"
    },
    {
     "data": {
      "image/png": "[encoded data removed]",
      "text/plain": [
       "<Figure size 640x480 with 1 Axes>"
      ]
     },
     "metadata": {},
     "output_type": "display_data"
    }
   ],
   "source": [
    "pred_cov = model_pastcov.predict(n=15,                        # n of days to predict\n",
    "                                 series=train['AAPL'][-45:],  # target input for prediction\n",
    "                                 past_covariates=train[-45:]) # past-covariates input for prediction\n",
    "\n",
    "val[:15].plot(label=\"actual\")\n",
    "pred_cov.plot(label=\"forecast\")\n"
   ]
  },
  {
   "cell_type": "markdown",
   "id": "6d24f4d3-8245-4a17-9542-8aa33e00be17",
   "metadata": {},
   "source": [
    "### __*Check the metrics*__"
   ]
  },
  {
   "cell_type": "code",
   "execution_count": 19,
   "id": "638c6922-a00b-4ff5-8e33-c3d24c6d2b77",
   "metadata": {},
   "outputs": [
    {
     "data": {
      "text/plain": [
       "3.6320905494796163"
      ]
     },
     "execution_count": 19,
     "metadata": {},
     "output_type": "execute_result"
    }
   ],
   "source": [
    "# check the SMAPE error\n",
    "\n",
    "smape(val['AAPL'][:15], pred_cov)\n"
   ]
  },
  {
   "cell_type": "markdown",
   "id": "1ed3ca3b-9882-4c8b-aeda-141e8acc7fbd",
   "metadata": {},
   "source": [
    "### __*Extract the predictions as np array in the original scale*__"
   ]
  },
  {
   "cell_type": "code",
   "execution_count": 21,
   "id": "b5618bd8-cd60-4a30-81ee-3e15c8598e95",
   "metadata": {},
   "outputs": [
    {
     "data": {
      "text/plain": [
       "array([[144.45919538],\n",
       "       [144.51003158],\n",
       "       [144.61066389],\n",
       "       [144.58153947],\n",
       "       [144.58048143],\n",
       "       [144.70175457],\n",
       "       [144.48565294],\n",
       "       [144.43052935],\n",
       "       [144.50120746],\n",
       "       [144.70445222],\n",
       "       [144.64298992],\n",
       "       [144.59493626],\n",
       "       [144.6228614 ],\n",
       "       [144.6969396 ],\n",
       "       [144.65217191]])"
      ]
     },
     "execution_count": 21,
     "metadata": {},
     "output_type": "execute_result"
    }
   ],
   "source": [
    "target_transformer.inverse_transform(pred_cov).values()\n"
   ]
  }
 ],
 "metadata": {
  "kernelspec": {
   "display_name": "Python 3 (ipykernel)",
   "language": "python",
   "name": "python3"
  },
  "language_info": {
   "codemirror_mode": {
    "name": "ipython",
    "version": 3
   },
   "file_extension": ".py",
   "mimetype": "text/x-python",
   "name": "python",
   "nbconvert_exporter": "python",
   "pygments_lexer": "ipython3",
   "version": "3.10.6"
  }
 },
 "nbformat": 4,
 "nbformat_minor": 5
}
