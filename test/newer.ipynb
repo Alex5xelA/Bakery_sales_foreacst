{
 "cells": [
  {
   "cell_type": "code",
   "execution_count": 1,
   "metadata": {},
   "outputs": [],
   "source": [
    "import pandas as pd\n",
    "import lightgbm as lgb\n",
    "from darts import TimeSeries\n",
    "from sklearn.model_selection import TimeSeriesSplit\n",
    "from sklearn.metrics import mean_squared_error\n",
    "from sklearn.preprocessing import StandardScaler\n",
    "import numpy as np\n"
   ]
  },
  {
   "cell_type": "code",
   "execution_count": 2,
   "metadata": {},
   "outputs": [],
   "source": [
    "data = pd.read_csv('../raw_data/hourly_final_dataset.csv')\n",
    "df = data\n"
   ]
  },
  {
   "cell_type": "code",
   "execution_count": 3,
   "metadata": {},
   "outputs": [],
   "source": [
    "feature_cols = df[[\"temperature_2m (°C)\", \"relative_humidity_2m (%)\", \"apparent_temperature (°C)\", \"precipitation (mm)\", \"rain (mm)\", \"wind_speed_10m (km/h)\", \"wind_speed_100m (km/h)\", \"day_of_week_sin\", \"day_of_week_cos\", \"month_sin\", \"month_cos\", \"isHoliday\"]]\n",
    "past_cov = df[[\"traditional_baguette\", \"croissant\", \"coupe\", \"pain_au_chocolat\", \"baguette\", \"banette\", \"cereal_baguette\"]]\n"
   ]
  },
  {
   "cell_type": "code",
   "execution_count": 4,
   "metadata": {},
   "outputs": [],
   "source": [
    "y_train = past_cov.loc[:'2021-12-31']\n",
    "y_val = past_cov.loc['2021-12-31':'2022-01-07']\n",
    "\n",
    "past_cov_train = feature_cols.loc[:'2021-12-31']\n",
    "past_cov_val = feature_cols.loc['2021-12-31':'2022-01-07']\n"
   ]
  },
  {
   "cell_type": "code",
   "execution_count": 5,
   "metadata": {},
   "outputs": [],
   "source": [
    "past_cov_train_series = TimeSeries.from_dataframe(past_cov_train)\n",
    "y_train_series = TimeSeries.from_dataframe(y_train)\n",
    "past_cov_val_series = TimeSeries.from_dataframe(past_cov_val)\n",
    "y_val_series = TimeSeries.from_dataframe(y_val)\n"
   ]
  },
  {
   "cell_type": "code",
   "execution_count": 6,
   "metadata": {},
   "outputs": [],
   "source": [
    "lgb_train = lgb.Dataset(past_cov_train_series.pd_dataframe(), label=y_train_series.pd_dataframe().values)\n",
    "lgb_val = lgb.Dataset(past_cov_val_series.pd_dataframe(), label=y_val_series.pd_dataframe().values, reference=lgb_train)\n"
   ]
  },
  {
   "cell_type": "code",
   "execution_count": 11,
   "metadata": {},
   "outputs": [
    {
     "data": {
      "text/plain": [
       "{'_handle': c_void_p(6046231168),\n",
       " 'data': component  temperature_2m (°C)  relative_humidity_2m (%)  \\\n",
       " time                                                       \n",
       " 0                         -1.4                      97.0   \n",
       " 1                         -0.1                      97.0   \n",
       " 2                         -0.9                      97.0   \n",
       " 3                         -1.5                      97.0   \n",
       " 4                         -1.4                      97.0   \n",
       " ...                        ...                       ...   \n",
       " 2017                       6.4                      79.0   \n",
       " 2018                       5.5                      84.0   \n",
       " 2019                       5.2                      85.0   \n",
       " 2020                       5.1                      87.0   \n",
       " 2021                       4.9                      89.0   \n",
       " \n",
       " component  apparent_temperature (°C)  precipitation (mm)  rain (mm)  \\\n",
       " time                                                                  \n",
       " 0                               -4.7                 0.0        0.0   \n",
       " 1                               -3.2                 0.0        0.0   \n",
       " 2                               -3.9                 0.0        0.0   \n",
       " 3                               -4.7                 0.0        0.0   \n",
       " 4                               -4.5                 0.0        0.0   \n",
       " ...                              ...                 ...        ...   \n",
       " 2017                             3.6                 0.0        0.0   \n",
       " 2018                             2.5                 0.0        0.0   \n",
       " 2019                             2.1                 0.0        0.0   \n",
       " 2020                             2.1                 0.0        0.0   \n",
       " 2021                             1.8                 0.0        0.0   \n",
       " \n",
       " component  wind_speed_10m (km/h)  wind_speed_100m (km/h)  day_of_week_sin  \\\n",
       " time                                                                        \n",
       " 0                            6.1                    11.6        -0.433884   \n",
       " 1                            6.1                    12.9        -0.433884   \n",
       " 2                            5.1                    11.2        -0.433884   \n",
       " 3                            5.6                    10.3        -0.433884   \n",
       " 4                            4.8                    10.0        -0.433884   \n",
       " ...                          ...                     ...              ...   \n",
       " 2017                         8.3                    20.6        -0.433884   \n",
       " 2018                         9.4                    21.2        -0.433884   \n",
       " 2019                        10.2                    23.7        -0.433884   \n",
       " 2020                        10.0                    23.4        -0.433884   \n",
       " 2021                        10.2                    23.3        -0.433884   \n",
       " \n",
       " component  day_of_week_cos  month_sin     month_cos  isHoliday  \n",
       " time                                                            \n",
       " 0                -0.900969        0.5  8.660254e-01        1.0  \n",
       " 1                -0.900969        0.5  8.660254e-01        1.0  \n",
       " 2                -0.900969        0.5  8.660254e-01        1.0  \n",
       " 3                -0.900969        0.5  8.660254e-01        1.0  \n",
       " 4                -0.900969        0.5  8.660254e-01        1.0  \n",
       " ...                    ...        ...           ...        ...  \n",
       " 2017             -0.900969        1.0  6.123234e-17        0.0  \n",
       " 2018             -0.900969        1.0  6.123234e-17        0.0  \n",
       " 2019             -0.900969        1.0  6.123234e-17        0.0  \n",
       " 2020             -0.900969        1.0  6.123234e-17        0.0  \n",
       " 2021             -0.900969        1.0  6.123234e-17        0.0  \n",
       " \n",
       " [2022 rows x 12 columns],\n",
       " 'label': array([[0., 0., 0., ..., 0., 0., 0.],\n",
       "        [0., 0., 0., ..., 0., 0., 0.],\n",
       "        [0., 0., 0., ..., 0., 0., 0.],\n",
       "        ...,\n",
       "        [0., 0., 0., ..., 0., 0., 0.],\n",
       "        [0., 0., 0., ..., 0., 0., 0.],\n",
       "        [0., 0., 0., ..., 0., 0., 0.]]),\n",
       " 'reference': None,\n",
       " 'weight': None,\n",
       " 'group': None,\n",
       " 'position': None,\n",
       " 'init_score': None,\n",
       " 'feature_name': 'auto',\n",
       " 'categorical_feature': 'auto',\n",
       " 'params': {'objective': 'regression',\n",
       "  'metric': 'rmse',\n",
       "  'boosting_type': 'gbdt',\n",
       "  'num_leaves': 31,\n",
       "  'learning_rate': 0.01,\n",
       "  'feature_fraction': 0.9,\n",
       "  'num_iterations': 1000},\n",
       " 'free_raw_data': True,\n",
       " 'used_indices': None,\n",
       " '_need_slice': True,\n",
       " '_predictor': None,\n",
       " 'pandas_categorical': [],\n",
       " '_params_back_up': None,\n",
       " 'version': 0,\n",
       " '_start_row': 0}"
      ]
     },
     "execution_count": 11,
     "metadata": {},
     "output_type": "execute_result"
    }
   ],
   "source": [
    "lgb_train.__dict__\n"
   ]
  },
  {
   "cell_type": "code",
   "execution_count": 7,
   "metadata": {},
   "outputs": [],
   "source": [
    "params = {\n",
    "    'objective': 'regression',\n",
    "    'metric': 'rmse',\n",
    "    'boosting_type': 'gbdt',\n",
    "    'num_leaves': 31,\n",
    "    'learning_rate': 0.01,\n",
    "    'feature_fraction': 0.9,\n",
    "}\n",
    "num_round = 1000\n"
   ]
  },
  {
   "cell_type": "code",
   "execution_count": 8,
   "metadata": {},
   "outputs": [],
   "source": [
    "tscv = TimeSeriesSplit(n_splits=5)\n",
    "cv_rmse = []\n"
   ]
  },
  {
   "cell_type": "code",
   "execution_count": 9,
   "metadata": {},
   "outputs": [
    {
     "ename": "TypeError",
     "evalue": "Wrong type(ndarray) for label.\nIt should be list, numpy 1-D array or pandas Series",
     "output_type": "error",
     "traceback": [
      "\u001b[0;31m---------------------------------------------------------------------------\u001b[0m",
      "\u001b[0;31mTypeError\u001b[0m                                 Traceback (most recent call last)",
      "\u001b[1;32m/Users/reecepalmer/Bakery_sales_forecast/test/newer.ipynb Cell 9\u001b[0m line \u001b[0;36m1\n\u001b[0;32m----> <a href='vscode-notebook-cell:/Users/reecepalmer/Bakery_sales_forecast/test/newer.ipynb#X10sZmlsZQ%3D%3D?line=0'>1</a>\u001b[0m model \u001b[39m=\u001b[39m lgb\u001b[39m.\u001b[39;49mtrain(params,\n\u001b[1;32m      <a href='vscode-notebook-cell:/Users/reecepalmer/Bakery_sales_forecast/test/newer.ipynb#X10sZmlsZQ%3D%3D?line=1'>2</a>\u001b[0m                   train_set \u001b[39m=\u001b[39;49m lgb_train,\n\u001b[1;32m      <a href='vscode-notebook-cell:/Users/reecepalmer/Bakery_sales_forecast/test/newer.ipynb#X10sZmlsZQ%3D%3D?line=2'>3</a>\u001b[0m                   num_boost_round \u001b[39m=\u001b[39;49m num_round,\n\u001b[1;32m      <a href='vscode-notebook-cell:/Users/reecepalmer/Bakery_sales_forecast/test/newer.ipynb#X10sZmlsZQ%3D%3D?line=3'>4</a>\u001b[0m                   valid_sets\u001b[39m=\u001b[39;49m[lgb_train, lgb_val])\n",
      "File \u001b[0;32m~/.pyenv/versions/3.10.6/envs/bakery/lib/python3.10/site-packages/lightgbm/engine.py:255\u001b[0m, in \u001b[0;36mtrain\u001b[0;34m(params, train_set, num_boost_round, valid_sets, valid_names, feval, init_model, feature_name, categorical_feature, keep_training_booster, callbacks)\u001b[0m\n\u001b[1;32m    253\u001b[0m \u001b[39m# construct booster\u001b[39;00m\n\u001b[1;32m    254\u001b[0m \u001b[39mtry\u001b[39;00m:\n\u001b[0;32m--> 255\u001b[0m     booster \u001b[39m=\u001b[39m Booster(params\u001b[39m=\u001b[39;49mparams, train_set\u001b[39m=\u001b[39;49mtrain_set)\n\u001b[1;32m    256\u001b[0m     \u001b[39mif\u001b[39;00m is_valid_contain_train:\n\u001b[1;32m    257\u001b[0m         booster\u001b[39m.\u001b[39mset_train_data_name(train_data_name)\n",
      "File \u001b[0;32m~/.pyenv/versions/3.10.6/envs/bakery/lib/python3.10/site-packages/lightgbm/basic.py:3200\u001b[0m, in \u001b[0;36mBooster.__init__\u001b[0;34m(self, params, train_set, model_file, model_str)\u001b[0m\n\u001b[1;32m   3193\u001b[0m     \u001b[39mself\u001b[39m\u001b[39m.\u001b[39mset_network(\n\u001b[1;32m   3194\u001b[0m         machines\u001b[39m=\u001b[39mmachines,\n\u001b[1;32m   3195\u001b[0m         local_listen_port\u001b[39m=\u001b[39mparams[\u001b[39m\"\u001b[39m\u001b[39mlocal_listen_port\u001b[39m\u001b[39m\"\u001b[39m],\n\u001b[1;32m   3196\u001b[0m         listen_time_out\u001b[39m=\u001b[39mparams\u001b[39m.\u001b[39mget(\u001b[39m\"\u001b[39m\u001b[39mtime_out\u001b[39m\u001b[39m\"\u001b[39m, \u001b[39m120\u001b[39m),\n\u001b[1;32m   3197\u001b[0m         num_machines\u001b[39m=\u001b[39mparams[\u001b[39m\"\u001b[39m\u001b[39mnum_machines\u001b[39m\u001b[39m\"\u001b[39m]\n\u001b[1;32m   3198\u001b[0m     )\n\u001b[1;32m   3199\u001b[0m \u001b[39m# construct booster object\u001b[39;00m\n\u001b[0;32m-> 3200\u001b[0m train_set\u001b[39m.\u001b[39;49mconstruct()\n\u001b[1;32m   3201\u001b[0m \u001b[39m# copy the parameters from train_set\u001b[39;00m\n\u001b[1;32m   3202\u001b[0m params\u001b[39m.\u001b[39mupdate(train_set\u001b[39m.\u001b[39mget_params())\n",
      "File \u001b[0;32m~/.pyenv/versions/3.10.6/envs/bakery/lib/python3.10/site-packages/lightgbm/basic.py:2276\u001b[0m, in \u001b[0;36mDataset.construct\u001b[0;34m(self)\u001b[0m\n\u001b[1;32m   2269\u001b[0m             \u001b[39mself\u001b[39m\u001b[39m.\u001b[39m_set_init_score_by_predictor(\n\u001b[1;32m   2270\u001b[0m                 predictor\u001b[39m=\u001b[39m\u001b[39mself\u001b[39m\u001b[39m.\u001b[39m_predictor,\n\u001b[1;32m   2271\u001b[0m                 data\u001b[39m=\u001b[39m\u001b[39mself\u001b[39m\u001b[39m.\u001b[39mdata,\n\u001b[1;32m   2272\u001b[0m                 used_indices\u001b[39m=\u001b[39mused_indices\n\u001b[1;32m   2273\u001b[0m             )\n\u001b[1;32m   2274\u001b[0m \u001b[39melse\u001b[39;00m:\n\u001b[1;32m   2275\u001b[0m     \u001b[39m# create train\u001b[39;00m\n\u001b[0;32m-> 2276\u001b[0m     \u001b[39mself\u001b[39;49m\u001b[39m.\u001b[39;49m_lazy_init(data\u001b[39m=\u001b[39;49m\u001b[39mself\u001b[39;49m\u001b[39m.\u001b[39;49mdata, label\u001b[39m=\u001b[39;49m\u001b[39mself\u001b[39;49m\u001b[39m.\u001b[39;49mlabel, reference\u001b[39m=\u001b[39;49m\u001b[39mNone\u001b[39;49;00m,\n\u001b[1;32m   2277\u001b[0m                     weight\u001b[39m=\u001b[39;49m\u001b[39mself\u001b[39;49m\u001b[39m.\u001b[39;49mweight, group\u001b[39m=\u001b[39;49m\u001b[39mself\u001b[39;49m\u001b[39m.\u001b[39;49mgroup,\n\u001b[1;32m   2278\u001b[0m                     init_score\u001b[39m=\u001b[39;49m\u001b[39mself\u001b[39;49m\u001b[39m.\u001b[39;49minit_score, predictor\u001b[39m=\u001b[39;49m\u001b[39mself\u001b[39;49m\u001b[39m.\u001b[39;49m_predictor,\n\u001b[1;32m   2279\u001b[0m                     feature_name\u001b[39m=\u001b[39;49m\u001b[39mself\u001b[39;49m\u001b[39m.\u001b[39;49mfeature_name, categorical_feature\u001b[39m=\u001b[39;49m\u001b[39mself\u001b[39;49m\u001b[39m.\u001b[39;49mcategorical_feature,\n\u001b[1;32m   2280\u001b[0m                     params\u001b[39m=\u001b[39;49m\u001b[39mself\u001b[39;49m\u001b[39m.\u001b[39;49mparams, position\u001b[39m=\u001b[39;49m\u001b[39mself\u001b[39;49m\u001b[39m.\u001b[39;49mposition)\n\u001b[1;32m   2281\u001b[0m \u001b[39mif\u001b[39;00m \u001b[39mself\u001b[39m\u001b[39m.\u001b[39mfree_raw_data:\n\u001b[1;32m   2282\u001b[0m     \u001b[39mself\u001b[39m\u001b[39m.\u001b[39mdata \u001b[39m=\u001b[39m \u001b[39mNone\u001b[39;00m\n",
      "File \u001b[0;32m~/.pyenv/versions/3.10.6/envs/bakery/lib/python3.10/site-packages/lightgbm/basic.py:1937\u001b[0m, in \u001b[0;36mDataset._lazy_init\u001b[0;34m(self, data, label, reference, weight, group, init_score, predictor, feature_name, categorical_feature, params, position)\u001b[0m\n\u001b[1;32m   1935\u001b[0m         \u001b[39mraise\u001b[39;00m \u001b[39mTypeError\u001b[39;00m(\u001b[39mf\u001b[39m\u001b[39m'\u001b[39m\u001b[39mCannot initialize Dataset from \u001b[39m\u001b[39m{\u001b[39;00m\u001b[39mtype\u001b[39m(data)\u001b[39m.\u001b[39m\u001b[39m__name__\u001b[39m\u001b[39m}\u001b[39;00m\u001b[39m'\u001b[39m) \u001b[39mfrom\u001b[39;00m \u001b[39merr\u001b[39;00m\n\u001b[1;32m   1936\u001b[0m \u001b[39mif\u001b[39;00m label \u001b[39mis\u001b[39;00m \u001b[39mnot\u001b[39;00m \u001b[39mNone\u001b[39;00m:\n\u001b[0;32m-> 1937\u001b[0m     \u001b[39mself\u001b[39;49m\u001b[39m.\u001b[39;49mset_label(label)\n\u001b[1;32m   1938\u001b[0m \u001b[39mif\u001b[39;00m \u001b[39mself\u001b[39m\u001b[39m.\u001b[39mget_label() \u001b[39mis\u001b[39;00m \u001b[39mNone\u001b[39;00m:\n\u001b[1;32m   1939\u001b[0m     \u001b[39mraise\u001b[39;00m \u001b[39mValueError\u001b[39;00m(\u001b[39m\"\u001b[39m\u001b[39mLabel should not be None\u001b[39m\u001b[39m\"\u001b[39m)\n",
      "File \u001b[0;32m~/.pyenv/versions/3.10.6/envs/bakery/lib/python3.10/site-packages/lightgbm/basic.py:2676\u001b[0m, in \u001b[0;36mDataset.set_label\u001b[0;34m(self, label)\u001b[0m\n\u001b[1;32m   2674\u001b[0m     label_array \u001b[39m=\u001b[39m np\u001b[39m.\u001b[39mravel(label)\n\u001b[1;32m   2675\u001b[0m \u001b[39melse\u001b[39;00m:\n\u001b[0;32m-> 2676\u001b[0m     label_array \u001b[39m=\u001b[39m _list_to_1d_numpy(label, dtype\u001b[39m=\u001b[39;49mnp\u001b[39m.\u001b[39;49mfloat32, name\u001b[39m=\u001b[39;49m\u001b[39m'\u001b[39;49m\u001b[39mlabel\u001b[39;49m\u001b[39m'\u001b[39;49m)\n\u001b[1;32m   2677\u001b[0m \u001b[39mself\u001b[39m\u001b[39m.\u001b[39mset_field(\u001b[39m'\u001b[39m\u001b[39mlabel\u001b[39m\u001b[39m'\u001b[39m, label_array)\n\u001b[1;32m   2678\u001b[0m \u001b[39mself\u001b[39m\u001b[39m.\u001b[39mlabel \u001b[39m=\u001b[39m \u001b[39mself\u001b[39m\u001b[39m.\u001b[39mget_field(\u001b[39m'\u001b[39m\u001b[39mlabel\u001b[39m\u001b[39m'\u001b[39m)  \u001b[39m# original values can be modified at cpp side\u001b[39;00m\n",
      "File \u001b[0;32m~/.pyenv/versions/3.10.6/envs/bakery/lib/python3.10/site-packages/lightgbm/basic.py:309\u001b[0m, in \u001b[0;36m_list_to_1d_numpy\u001b[0;34m(data, dtype, name)\u001b[0m\n\u001b[1;32m    307\u001b[0m     \u001b[39mreturn\u001b[39;00m np\u001b[39m.\u001b[39marray(data, dtype\u001b[39m=\u001b[39mdtype, copy\u001b[39m=\u001b[39m\u001b[39mFalse\u001b[39;00m)  \u001b[39m# SparseArray should be supported as well\u001b[39;00m\n\u001b[1;32m    308\u001b[0m \u001b[39melse\u001b[39;00m:\n\u001b[0;32m--> 309\u001b[0m     \u001b[39mraise\u001b[39;00m \u001b[39mTypeError\u001b[39;00m(\u001b[39mf\u001b[39m\u001b[39m\"\u001b[39m\u001b[39mWrong type(\u001b[39m\u001b[39m{\u001b[39;00m\u001b[39mtype\u001b[39m(data)\u001b[39m.\u001b[39m\u001b[39m__name__\u001b[39m\u001b[39m}\u001b[39;00m\u001b[39m) for \u001b[39m\u001b[39m{\u001b[39;00mname\u001b[39m}\u001b[39;00m\u001b[39m.\u001b[39m\u001b[39m\\n\u001b[39;00m\u001b[39m\"\u001b[39m\n\u001b[1;32m    310\u001b[0m                     \u001b[39m\"\u001b[39m\u001b[39mIt should be list, numpy 1-D array or pandas Series\u001b[39m\u001b[39m\"\u001b[39m)\n",
      "\u001b[0;31mTypeError\u001b[0m: Wrong type(ndarray) for label.\nIt should be list, numpy 1-D array or pandas Series"
     ]
    }
   ],
   "source": [
    "model = lgb.train(params,\n",
    "                  train_set = lgb_train,\n",
    "                  num_boost_round = num_round,\n",
    "                  valid_sets=[lgb_train, lgb_val])\n"
   ]
  },
  {
   "cell_type": "code",
   "execution_count": null,
   "metadata": {},
   "outputs": [],
   "source": [
    "def eval_global_model(train_series, val_series, model):\n",
    "    preds = model.predict(past_cov_val_series.pd_dataframe())\n",
    "\n",
    "    preds = pd.DataFrame(preds, index=val_series.index, columns=val_series.columns)\n",
    "\n",
    "    rmse = np.sqrt(mean_squared_error(val_series.pd_dataframe(), preds))\n",
    "\n",
    "    return rmse\n"
   ]
  },
  {
   "cell_type": "code",
   "execution_count": null,
   "metadata": {},
   "outputs": [],
   "source": [
    "validation_rmse = eval_global_model(past_cov_train_series, y_val_series, model)\n",
    "print(f\"val RMSE = {validation_rmse}\")\n"
   ]
  }
 ],
 "metadata": {
  "kernelspec": {
   "display_name": "bakery",
   "language": "python",
   "name": "python3"
  },
  "language_info": {
   "codemirror_mode": {
    "name": "ipython",
    "version": 3
   },
   "file_extension": ".py",
   "mimetype": "text/x-python",
   "name": "python",
   "nbconvert_exporter": "python",
   "pygments_lexer": "ipython3",
   "version": "3.10.6"
  }
 },
 "nbformat": 4,
 "nbformat_minor": 2
}
