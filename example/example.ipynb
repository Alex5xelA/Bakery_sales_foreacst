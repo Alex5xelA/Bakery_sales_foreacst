{
 "cells": [
  {
   "cell_type": "code",
   "execution_count": 2,
   "metadata": {},
   "outputs": [
    {
     "name": "stdout",
     "output_type": "stream",
     "text": [
      "        Unnamed: 0        date   time  ticket_number               article  \\\n",
      "0                0  2021-01-02  08:38       150040.0              BAGUETTE   \n",
      "1                1  2021-01-02  08:38       150040.0      PAIN AU CHOCOLAT   \n",
      "2                4  2021-01-02  09:14       150041.0      PAIN AU CHOCOLAT   \n",
      "3                5  2021-01-02  09:14       150041.0                  PAIN   \n",
      "4                8  2021-01-02  09:25       150042.0  TRADITIONAL BAGUETTE   \n",
      "...            ...         ...    ...            ...                   ...   \n",
      "234000      511387  2022-09-30  18:52       288911.0                 COUPE   \n",
      "234001      511388  2022-09-30  18:52       288911.0            BOULE 200G   \n",
      "234002      511389  2022-09-30  18:52       288911.0                 COUPE   \n",
      "234003      511392  2022-09-30  18:55       288912.0  TRADITIONAL BAGUETTE   \n",
      "234004      511395  2022-09-30  18:56       288913.0  TRADITIONAL BAGUETTE   \n",
      "\n",
      "        Quantity unit_price  \n",
      "0            1.0     0,90 €  \n",
      "1            3.0     1,20 €  \n",
      "2            2.0     1,20 €  \n",
      "3            1.0     1,15 €  \n",
      "4            5.0     1,20 €  \n",
      "...          ...        ...  \n",
      "234000       1.0     0,15 €  \n",
      "234001       1.0     1,20 €  \n",
      "234002       2.0     0,15 €  \n",
      "234003       1.0     1,30 €  \n",
      "234004       1.0     1,30 €  \n",
      "\n",
      "[234005 rows x 7 columns]\n"
     ]
    }
   ],
   "source": [
    "import pandas as pd\n",
    "\n",
    "file_path = '../raw_data/bakerysales.csv'\n",
    "\n",
    "df = pd.read_csv(file_path)\n",
    "\n",
    "print(df)\n"
   ]
  },
  {
   "cell_type": "code",
   "execution_count": 3,
   "metadata": {},
   "outputs": [
    {
     "name": "stdout",
     "output_type": "stream",
     "text": [
      "              date   time  ticket_number               article  Quantity  \\\n",
      "0       2021-01-02  08:38       150040.0              BAGUETTE       1.0   \n",
      "1       2021-01-02  08:38       150040.0      PAIN AU CHOCOLAT       3.0   \n",
      "2       2021-01-02  09:14       150041.0      PAIN AU CHOCOLAT       2.0   \n",
      "3       2021-01-02  09:14       150041.0                  PAIN       1.0   \n",
      "4       2021-01-02  09:25       150042.0  TRADITIONAL BAGUETTE       5.0   \n",
      "...            ...    ...            ...                   ...       ...   \n",
      "234000  2022-09-30  18:52       288911.0                 COUPE       1.0   \n",
      "234001  2022-09-30  18:52       288911.0            BOULE 200G       1.0   \n",
      "234002  2022-09-30  18:52       288911.0                 COUPE       2.0   \n",
      "234003  2022-09-30  18:55       288912.0  TRADITIONAL BAGUETTE       1.0   \n",
      "234004  2022-09-30  18:56       288913.0  TRADITIONAL BAGUETTE       1.0   \n",
      "\n",
      "       unit_price  \n",
      "0          0,90 €  \n",
      "1          1,20 €  \n",
      "2          1,20 €  \n",
      "3          1,15 €  \n",
      "4          1,20 €  \n",
      "...           ...  \n",
      "234000     0,15 €  \n",
      "234001     1,20 €  \n",
      "234002     0,15 €  \n",
      "234003     1,30 €  \n",
      "234004     1,30 €  \n",
      "\n",
      "[234005 rows x 6 columns]\n"
     ]
    }
   ],
   "source": [
    "df = df.drop('Unnamed: 0', axis=1)\n",
    "\n",
    "print(df)\n"
   ]
  }
 ],
 "metadata": {
  "kernelspec": {
   "display_name": "bakery",
   "language": "python",
   "name": "python3"
  },
  "language_info": {
   "codemirror_mode": {
    "name": "ipython",
    "version": 3
   },
   "file_extension": ".py",
   "mimetype": "text/x-python",
   "name": "python",
   "nbconvert_exporter": "python",
   "pygments_lexer": "ipython3",
   "version": "3.10.6"
  }
 },
 "nbformat": 4,
 "nbformat_minor": 2
}
