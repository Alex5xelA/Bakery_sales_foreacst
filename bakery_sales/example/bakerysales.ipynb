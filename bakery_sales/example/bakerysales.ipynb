{
 "cells": [
  {
   "cell_type": "code",
   "execution_count": 1,
   "metadata": {},
   "outputs": [],
   "source": [
    "import pandas as pd\n",
    "\n",
    "df = pd.read_csv('../raw_data/bakerysales.csv')\n",
    "\n",
    "df['datetime_column'] = pd.to_datetime(df['date'] + ' ' + df['time'])\n",
    "\n",
    "date_range = pd.date_range(start=df['datetime_column'].min(), end=df['datetime_column'].max(), freq='D')\n",
    "\n",
    "df_complete_dates = pd.DataFrame(date_range, columns=['datetime_column'])\n",
    "\n",
    "df_complete_dates = df_complete_dates.merge(df, left_on='datetime_column', right_on='datetime_column', how='left')\n",
    "\n",
    "df_complete_dates['Quantity'] = df_complete_dates['Quantity'].fillna(0)\n",
    "df_complete_dates['unit_price'] = df_complete_dates['unit_price'].fillna(0)\n",
    "\n",
    "df_complete_dates = df_complete_dates.drop(['date', 'time'], axis=1)\n",
    "\n",
    "df_complete_dates.to_csv('../raw_data/cleaned/add_dates.csv', index=False)\n"
   ]
  },
  {
   "cell_type": "code",
   "execution_count": 2,
   "metadata": {},
   "outputs": [],
   "source": [
    "duplicates = df['datetime_column'].duplicated(keep='first')\n",
    "if duplicates.any():\n",
    "    df = df[~duplicates]\n",
    "\n",
    "date_range = pd.date_range(start=df['datetime_column'].min(), end=df['datetime_column'].max(), freq='D')\n",
    "\n",
    "df_complete_dates = pd.DataFrame(date_range, columns=['datetime_column'])\n",
    "\n",
    "df_complete_dates = df_complete_dates.merge(df, on='datetime_column', how='left')\n",
    "\n",
    "df_complete_dates['Quantity'] = df_complete_dates['Quantity'].fillna(0)\n",
    "df_complete_dates['unit_price'] = df_complete_dates['unit_price'].fillna(0)\n",
    "\n",
    "df_complete_dates = df_complete_dates.drop(['date', 'time'], axis=1)\n",
    "\n",
    "df_complete_dates.to_csv('../raw_data/cleaned/resampled.csv', index=False)\n"
   ]
  },
  {
   "cell_type": "code",
   "execution_count": 3,
   "metadata": {},
   "outputs": [],
   "source": [
    "df_resampled = df.set_index('datetime_column').resample('H').sum()\n",
    "\n",
    "df_resampled = df_resampled.reset_index()\n",
    "\n",
    "df_resampled['Quantity'] = df_resampled['Quantity'].fillna(0)\n",
    "df_resampled['unit_price'] = df_resampled['unit_price'].fillna(0)\n",
    "\n",
    "df_resampled.to_csv('../raw_data/cleaned/resampled_hourly.csv', index=False)\n"
   ]
  }
 ],
 "metadata": {
  "kernelspec": {
   "display_name": "bakery",
   "language": "python",
   "name": "python3"
  },
  "language_info": {
   "codemirror_mode": {
    "name": "ipython",
    "version": 3
   },
   "file_extension": ".py",
   "mimetype": "text/x-python",
   "name": "python",
   "nbconvert_exporter": "python",
   "pygments_lexer": "ipython3",
   "version": "3.10.6"
  }
 },
 "nbformat": 4,
 "nbformat_minor": 2
}
